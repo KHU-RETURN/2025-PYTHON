{
 "cells": [
  {
   "cell_type": "markdown",
   "metadata": {},
   "source": [
    "# Python 함수 예시\n",
    "\n",
    "이 노트북에서는 파이썬에서 함수를 사용하는 여러 예시들을 살펴봅니다.\n",
    "\n",
    "1. **파이썬 빌트인 함수**\n",
    "2. **사용자 정의 함수**\n",
    "3. **함수 스코프** (지역 변수, 전역 변수)\n",
    "4. **독스트링**\n",
    "5. **함수와 객체** (일급 객체)"
   ]
  },
  {
   "cell_type": "markdown",
   "id": "8c830ff7",
   "metadata": {},
   "source": [
    "### 1. 코드 재사용\n",
    "\n",
    "- 특정한 기능을 미리 선언해두고 이를 불러서 사용하기만 하면 매번 해당 코드를 작성할 필요 없이 재사용이 가능합니다.\n",
    "\n",
    "⇒ 예시"
   ]
  },
  {
   "cell_type": "code",
   "execution_count": null,
   "id": "3c6dbddd",
   "metadata": {},
   "outputs": [],
   "source": [
    "def greet_user(name):\n",
    "    print(f\"안녕하세요, {name}님!\")\n",
    "\n",
    "# 여러 곳에서 재사용\n",
    "greet_user(\"지민\")\n",
    "greet_user(\"서준\")\n",
    "greet_user(\"하린\")"
   ]
  },
  {
   "cell_type": "markdown",
   "id": "8be901d5",
   "metadata": {},
   "source": [
    "### 2. 가독성 향상\n",
    "\n",
    "- 복잡한 코드들을 의미 단위로 모아 읽기 쉽게 만들 수 있습니다.\n",
    "\n",
    "⇒ 예시"
   ]
  },
  {
   "cell_type": "code",
   "execution_count": null,
   "id": "4ab1db4d",
   "metadata": {},
   "outputs": [],
   "source": [
    "def calculate_total(price, tax_rate):\n",
    "    return price + (price * tax_rate)\n",
    "\n",
    "# 메인 로직\n",
    "item_price = 10000\n",
    "tax = 0.1\n",
    "total_price = calculate_total(item_price, tax)\n",
    "print(f\"총 가격은 {total_price}원입니다.\")"
   ]
  },
  {
   "cell_type": "markdown",
   "id": "d335c1fa",
   "metadata": {},
   "source": [
    "### 3. 유지보수 용이\n",
    "\n",
    "- 기능의 수정을 위해 큰 코드 속을 살펴볼 필요 없이, 특정 함수로 모여있는 코드를 수정할 수 있습니다.\n",
    "\n",
    "⇒ 예시"
   ]
  },
  {
   "cell_type": "code",
   "execution_count": 2,
   "id": "287e0a34",
   "metadata": {},
   "outputs": [
    {
     "name": "stdout",
     "output_type": "stream",
     "text": [
      "할인 적용 가격은 24000.0원입니다.\n"
     ]
    }
   ],
   "source": [
    "def apply_discount(price, rate):\n",
    "    return price * (1 - rate) *1.5\n",
    "\n",
    "# 나중에 할인율 계산 방법이 바뀌어도 아래 코드들은 수정할 필요 없음\n",
    "item_price = 20000\n",
    "discounted_price = apply_discount(item_price, 0.2)\n",
    "print(f\"할인 적용 가격은 {discounted_price}원입니다.\")"
   ]
  },
  {
   "cell_type": "markdown",
   "metadata": {},
   "source": [
    "## 1. 파이썬 빌트인 함수 예시\n",
    "\n",
    "아래는 파이썬에서 기본으로 제공되는(built-in) 함수를 사용하는 간단한 예시들입니다."
   ]
  },
  {
   "cell_type": "code",
   "execution_count": 3,
   "metadata": {},
   "outputs": [
    {
     "name": "stdout",
     "output_type": "stream",
     "text": [
      "Hello, Python!\n",
      "타입 예시: <class 'float'>\n",
      "3 3.0 100 True False\n",
      "합계: 42\n",
      "최댓값: 20\n",
      "최솟값: 5\n",
      "정렬된 리스트: [5, 7, 10, 20]\n",
      "역순 정렬: [20, 10, 7, 5]\n"
     ]
    }
   ],
   "source": [
    "# 1) print()\n",
    "print(\"Hello, Python!\")\n",
    "\n",
    "# 2) input()  -> Jupyter 환경에서는 실행 시 input 창이 뜨지 않을 수 있습니다.\n",
    "# name = input(\"Enter your name: \")\n",
    "# print(\"Your name is\", name)\n",
    "\n",
    "# 3) type()\n",
    "x = 3.14\n",
    "print(\"타입 예시:\", type(x))\n",
    "\n",
    "# 4) 형변환 함수\n",
    "print(int(3.5), float(3), str(100), bool(1), bool(0))\n",
    "\n",
    "# 5) sum(), max(), min()\n",
    "numbers = [10, 20, 5, 7]\n",
    "print(\"합계:\", sum(numbers))\n",
    "print(\"최댓값:\", max(numbers))\n",
    "print(\"최솟값:\", min(numbers))\n",
    "\n",
    "# 6) sorted()\n",
    "print(\"정렬된 리스트:\", sorted(numbers))\n",
    "print(\"역순 정렬:\", sorted(numbers, reverse=True))"
   ]
  },
  {
   "cell_type": "markdown",
   "metadata": {},
   "source": [
    "## 2. 사용자 정의 함수\n",
    "\n",
    "사용자가 직접 함수를 정의하여 사용할 수 있습니다."
   ]
  },
  {
   "cell_type": "code",
   "execution_count": 4,
   "metadata": {},
   "outputs": [
    {
     "name": "stdout",
     "output_type": "stream",
     "text": [
      "3 + 5 = 8\n",
      "Hello!\n"
     ]
    }
   ],
   "source": [
    "def add(a, b):\n",
    "    return a + b\n",
    "\n",
    "def say_hello():\n",
    "    print(\"Hello!\")\n",
    "\n",
    "# 함수 호출\n",
    "result = add(3, 5)\n",
    "print(\"3 + 5 =\", result)\n",
    "\n",
    "say_hello()  # 출력만 하고 반환값은 None"
   ]
  },
  {
   "cell_type": "markdown",
   "metadata": {},
   "source": [
    "## 3. 함수 스코프 (Scope)\n",
    "\n",
    "함수 안에서 선언된 변수는 함수 안에서만 유효합니다. 이것을 **지역 변수(local variable)**라고 합니다. 함수 밖에서 선언된 변수는 **전역 변수(global variable)**로서 어디에서나 접근할 수 있습니다. 다만 함수 안에서 전역 변수를 직접 수정하고 싶다면 `global` 키워드를 사용해야 합니다."
   ]
  },
  {
   "cell_type": "code",
   "execution_count": null,
   "metadata": {},
   "outputs": [],
   "source": [
    "# 지역 변수 예시\n",
    "\n",
    "def my_func():\n",
    "    x = 10  # 지역 변수\n",
    "    print(\"함수 내부 x:\", x)\n",
    "\n",
    "my_func()\n",
    "\n",
    "# 아래 코드는 오류가 납니다. (x는 함수 안에서만 유효)\n",
    "print(x)"
   ]
  },
  {
   "cell_type": "code",
   "execution_count": null,
   "metadata": {},
   "outputs": [],
   "source": [
    "# 전역 변수 예시\n",
    "\n",
    "count = 0  # 전역 변수\n",
    "\n",
    "def increase():\n",
    "    global count  # 전역 변수 count를 수정하기 위해 global 선언\n",
    "    count += 1\n",
    "\n",
    "print(\"초기 count:\", count)\n",
    "increase()\n",
    "print(\"함수 호출 후 count:\", count)"
   ]
  },
  {
   "cell_type": "markdown",
   "metadata": {},
   "source": [
    "## 4. 독스트링(Docstring)\n",
    "\n",
    "함수, 클래스, 모듈 등에 설명을 달 때 **독스트링**을 사용합니다. 함수 내부 첫 줄에 `\"\"\" ~ \"\"\"` 형태로 작성하면 됩니다."
   ]
  },
  {
   "cell_type": "code",
   "execution_count": null,
   "metadata": {},
   "outputs": [],
   "source": [
    "def square(x):\n",
    "    \"\"\"x의 제곱을 반환합니다.\"\"\"\n",
    "    return x * x\n",
    "\n",
    "print(\"square(5) =\", square(5))\n",
    "print(\"독스트링:\", square.__doc__)\n",
    "\n",
    "# help 함수를 사용하면 함수의 독스트링을 볼 수 있습니다.\n",
    "help(square)"
   ]
  },
  {
   "cell_type": "markdown",
   "metadata": {},
   "source": [
    "## 5. 함수와 객체\n",
    "\n",
    "파이썬에서는 숫자, 문자열, 리스트, 그리고 **함수**조차도 모두 **객체**로 취급합니다. 즉, 함수를 변수에 할당하거나, 다른 함수의 인자로 넘기거나, 함수가 함수를 반환할 수도 있습니다."
   ]
  },
  {
   "cell_type": "code",
   "execution_count": null,
   "metadata": {},
   "outputs": [],
   "source": [
    "# 1) 함수를 변수에 할당\n",
    "\n",
    "def multiply(a, b):\n",
    "    return a * b\n",
    "\n",
    "operation = multiply  # 함수 객체를 변수에 담을 수 있음\n",
    "print(operation(4, 5))  # == multiply(4, 5)"
   ]
  },
  {
   "cell_type": "code",
   "execution_count": null,
   "metadata": {},
   "outputs": [],
   "source": [
    "# 2) 함수를 다른 함수의 인자로 넘기기\n",
    "\n",
    "def greet():\n",
    "    return \"안녕하세요!\"\n",
    "\n",
    "def execute_func(func):\n",
    "    print(\"함수를 인자로 받아서 실행합니다.\")\n",
    "    print(\"실행 결과:\", func())\n",
    "\n",
    "execute_func(greet)"
   ]
  },
  {
   "cell_type": "code",
   "execution_count": null,
   "metadata": {},
   "outputs": [],
   "source": [
    "# 3) 함수를 반환하는 함수\n",
    "\n",
    "def create_multiplier(n):\n",
    "    def multiplier(x):\n",
    "        return x * n\n",
    "    return multiplier\n",
    "\n",
    "double = create_multiplier(2)\n",
    "triple = create_multiplier(3)\n",
    "\n",
    "print(double(10))  # 10 * 2 = 20\n",
    "print(triple(10))  # 10 * 3 = 30"
   ]
  },
  {
   "cell_type": "markdown",
   "metadata": {},
   "source": [
    "---\n",
    "**이상으로 파이썬 함수의 기본 예시들을 살펴봤습니다.**"
   ]
  }
 ],
 "metadata": {
  "kernelspec": {
   "display_name": "3.11.11",
   "language": "python",
   "name": "python3"
  },
  "language_info": {
   "codemirror_mode": {
    "name": "ipython",
    "version": 3
   },
   "file_extension": ".py",
   "mimetype": "text/x-python",
   "name": "python",
   "nbconvert_exporter": "python",
   "pygments_lexer": "ipython3",
   "version": "3.11.11"
  }
 },
 "nbformat": 4,
 "nbformat_minor": 5
}
