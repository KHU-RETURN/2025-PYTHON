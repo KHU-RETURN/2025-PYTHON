{
 "cells": [
  {
   "cell_type": "markdown",
   "metadata": {},
   "source": [
    "# 함수 실습 문제\n",
    "\n",
    "아래는 함수 실습을 위해 준비한 단계별 문제들입니다.\n",
    "\n",
    "1. 인사말 출력 함수\n",
    "2. 리스트 합계를 구하는 함수 (sum 사용 금지)\n",
    "3. 함수를 인자로 받아 실행하는 함수"
   ]
  },
  {
   "cell_type": "markdown",
   "metadata": {},
   "source": [
    "## 1. 인사말 출력 함수 만들기\n",
    "\n",
    "**문제**: \n",
    "- 입력: 이름(문자열)\n",
    "- 반환값: 없음 (`None` 반환)\n",
    "- 기능: `\"안녕하세요, {이름}님!\"` 형태로 **출력만** 합니다.\n",
    "\n",
    "**예시**\n",
    "```python\n",
    "greet(\"홍길동\")\n",
    "# 출력: 안녕하세요, 홍길동님!\n",
    "```"
   ]
  },
  {
   "cell_type": "code",
   "execution_count": 1,
   "metadata": {
    "tags": []
   },
   "outputs": [
    {
     "name": "stdout",
     "output_type": "stream",
     "text": [
      "안녕하세요 김태연님!\n"
     ]
    }
   ],
   "source": [
    "def greet(name):\n",
    "    print(f\"안녕하세요 {name}님!\")\n",
    "    pass\n",
    "\n",
    "greet(\"김태연\")"
   ]
  },
  {
   "cell_type": "markdown",
   "metadata": {},
   "source": [
    "## 2. 사칙연산 함수 만들기\n",
    "\n",
    "**문제**:\n",
    "- 입력: 2개의 숫자\n",
    "- 반환값: 사칙연산의 결과\n",
    "\n",
    "**예시**\n",
    "```python\n",
    "print(sum_func(10, 5))  # 15\n",
    "print(sub_func(10, 5))  # 5\n",
    "print(mul_func(10, 5))  # 50\n",
    "print(div_func(10, 5))  # 2\n",
    "```"
   ]
  },
  {
   "cell_type": "code",
   "execution_count": 6,
   "metadata": {
    "tags": []
   },
   "outputs": [
    {
     "name": "stdout",
     "output_type": "stream",
     "text": [
      "15\n",
      "5\n",
      "50\n",
      "2\n"
     ]
    }
   ],
   "source": [
    "def sum_func(num1, num2):\n",
    "    return num1+num2\n",
    "\n",
    "def sub_func(num1, num2):\n",
    "    return num1-num2\n",
    "\n",
    "def mul_func(num1, num2):\n",
    "    return num1*num2\n",
    "\n",
    "def div_func(num1, num2):\n",
    "    return num1//num2\n",
    "\n",
    "print(sum_func(10, 5)) \n",
    "print(sub_func(10, 5))\n",
    "print(mul_func(10, 5))\n",
    "print(div_func(10, 5))"
   ]
  },
  {
   "cell_type": "markdown",
   "metadata": {},
   "source": [
    "## 3. 함수를 인자로 받아 실행하는 함수\n",
    "\n",
    "**문제**:\n",
    "- 입력: 함수를 하나 입력받는다.\n",
    "- 반환값: 없음 (`None`)\n",
    "- 기능: 입력받은 함수를 호출해서, 그 결과를 화면에 출력\n",
    "\n",
    "```python\n",
    "def sample_func():\n",
    "    return \"I'm a sample function\"\n",
    "\n",
    "call_function(sample_func)\n",
    "# 출력 예:\n",
    "# I'm a sample function\n",
    "```"
   ]
  },
  {
   "cell_type": "code",
   "execution_count": 12,
   "metadata": {},
   "outputs": [
    {
     "name": "stdout",
     "output_type": "stream",
     "text": [
      "I'm a sample function\n"
     ]
    }
   ],
   "source": [
    "def call_function(func):\n",
    "    print(func())\n",
    "    pass\n",
    "\n",
    "# 테스트\n",
    "def sample_func():\n",
    "    return \"I'm a sample function\"\n",
    "\n",
    "call_function(sample_func)"
   ]
  }
 ],
 "metadata": {
  "kernelspec": {
   "display_name": "myenv",
   "language": "python",
   "name": "python3"
  },
  "language_info": {
   "codemirror_mode": {
    "name": "ipython",
    "version": 3
   },
   "file_extension": ".py",
   "mimetype": "text/x-python",
   "name": "python",
   "nbconvert_exporter": "python",
   "pygments_lexer": "ipython3",
   "version": "3.13.2"
  }
 },
 "nbformat": 4,
 "nbformat_minor": 5
}
