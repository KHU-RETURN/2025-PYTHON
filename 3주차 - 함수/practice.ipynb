{
 "cells": [
  {
   "cell_type": "markdown",
   "metadata": {},
   "source": [
    "# 함수 실습 문제\n",
    "\n",
    "아래는 함수 실습을 위해 준비한 단계별 문제들입니다.\n",
    "\n",
    "1. 인사말 출력 함수\n",
    "2. 리스트 합계를 구하는 함수 (sum 사용 금지)\n",
    "3. 함수를 인자로 받아 실행하는 함수"
   ]
  },
  {
   "cell_type": "markdown",
   "metadata": {},
   "source": [
    "## 1. 인사말 출력 함수 만들기\n",
    "\n",
    "**문제**: \n",
    "- 입력: 이름(문자열)\n",
    "- 반환값: 없음 (`None` 반환)\n",
    "- 기능: `\"안녕하세요, {이름}님!\"` 형태로 **출력만** 합니다.\n",
    "\n",
    "**예시**\n",
    "```python\n",
    "greet(\"홍길동\")\n",
    "# 출력: 안녕하세요, 홍길동님!\n",
    "```"
   ]
  },
  {
   "cell_type": "code",
   "execution_count": null,
   "metadata": {
    "tags": []
   },
   "outputs": [],
   "source": [
    "# TODO: 위 문제를 해결하는 함수를 구현해보세요.\n",
    "\n",
    "def greet(name):\n",
    "    # 여기에 코드를 작성하세요.\n",
    "    pass\n",
    "\n",
    "# 직접 테스트 해보기\n",
    "greet(\"홍길동\")  # 예상 출력: 안녕하세요, 홍길동님!"
   ]
  },
  {
   "cell_type": "markdown",
   "metadata": {},
   "source": [
    "## 2. 사칙연산 함수 만들기\n",
    "\n",
    "**문제**:\n",
    "- 입력: 2개의 숫자\n",
    "- 반환값: 사칙연산의 결과\n",
    "\n",
    "**예시**\n",
    "```python\n",
    "print(sum_func(10, 5))  # 15\n",
    "print(sub_func(10, 5))  # 5\n",
    "print(mul_func(10, 5))  # 50\n",
    "print(div_func(10, 5))  # 2\n",
    "```"
   ]
  },
  {
   "cell_type": "code",
   "execution_count": null,
   "metadata": {
    "tags": []
   },
   "outputs": [],
   "source": [
    "# TODO: 위 문제를 해결하는 함수를 구현해보세요.\n",
    "\n",
    "# 이곳에 함수를 만들어 보세요\n",
    "\n",
    "print(sum_func(10, 5))  # 15\n",
    "print(sub_func(10, 5))  # 5\n",
    "print(mul_func(10, 5))  # 50\n",
    "print(div_func(10, 5))  # 2"
   ]
  },
  {
   "cell_type": "markdown",
   "metadata": {},
   "source": [
    "## 3. 함수를 인자로 받아 실행하는 함수\n",
    "\n",
    "**문제**:\n",
    "- 입력: 함수를 하나 입력받는다.\n",
    "- 반환값: 없음 (`None`)\n",
    "- 기능: 입력받은 함수를 호출해서, 그 결과를 화면에 출력\n",
    "\n",
    "```python\n",
    "def sample_func():\n",
    "    return \"I'm a sample function\"\n",
    "\n",
    "call_function(sample_func)\n",
    "# 출력 예:\n",
    "# I'm a sample function\n",
    "```"
   ]
  },
  {
   "cell_type": "code",
   "execution_count": null,
   "metadata": {},
   "outputs": [],
   "source": [
    "# TODO: 함수를 인자로 받아 실행해주는 함수를 만들어보세요.\n",
    "\n",
    "def call_function(func):\n",
    "    # 여기에 코드를 작성하세요.\n",
    "    pass\n",
    "\n",
    "# 테스트\n",
    "def sample_func():\n",
    "    return \"I'm a sample function\"\n",
    "\n",
    "call_function(sample_func)  # 예상 출력: I'm a sample function"
   ]
  }
 ],
 "metadata": {
  "kernelspec": {
   "display_name": "Python 3",
   "language": "python",
   "name": "python3"
  },
  "language_info": {
   "codemirror_mode": {
    "name": "ipython",
    "version": 3
   },
   "file_extension": ".py",
   "mimetype": "text/x-python",
   "name": "python",
   "version": "3.9"
  }
 },
 "nbformat": 4,
 "nbformat_minor": 5
}
