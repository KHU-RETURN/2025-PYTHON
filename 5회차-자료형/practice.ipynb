{
 "cells": [
  {
   "cell_type": "markdown",
   "id": "fa26fec8",
   "metadata": {},
   "source": [
    "# 실습문제 1: 형변환 기반 다중 변환기 만들기\n",
    "## 문제 설명:\n",
    "아래 문자열을 입력으로 받아, 순서대로 다음 형변환을 수행하고 중간중간 출력하세요.\n",
    "## 요구사항:\n",
    "\n",
    "1. 문자열 \"1,2,3,4\"를 리스트로 변환 → [\"1\", \"2\", \"3\", \"4\"]\n",
    "\n",
    "2. 각 요소를 int로 변환 → [1, 2, 3, 4]\n",
    "\n",
    "3. 이를 집합(set)으로 변환 → {1, 2, 3, 4}\n",
    "\n",
    "4. 최종적으로 튜플로 변환 → (1, 2, 3, 4)\n",
    "\n",
    "5. 각 단계마다 print()와 type()으로 자료형 출력"
   ]
  },
  {
   "cell_type": "code",
   "execution_count": null,
   "id": "c63326f6",
   "metadata": {},
   "outputs": [],
   "source": [
    "raw = \"1,2,3,4\"\n",
    "\n",
    "# 코드를 입력하세요"
   ]
  },
  {
   "cell_type": "markdown",
   "id": "715073f1",
   "metadata": {},
   "source": [
    "# 실습문제 2: 메서드를 이용한 문자열 가공기\n",
    "## 문제 설명:\n",
    "사용자로부터 받은 문자열을 다음 조건에 따라 가공하고, 최종 결과를 출력하세요.\n",
    "\n",
    "## 요구사항:\n",
    "\n",
    "- 입력받은 문자열에서 공백을 제거 (.replace(\" \", \"\"))\n",
    "\n",
    "- 모든 문자를 소문자로 바꿈 (.lower())\n",
    "\n",
    "- 리스트로 변환\n",
    "\n",
    "- 정렬 후 다시 문자열로 합쳐 출력 (''.join(...))"
   ]
  },
  {
   "cell_type": "code",
   "execution_count": null,
   "id": "3bdbe845",
   "metadata": {},
   "outputs": [],
   "source": [
    "# 입력 예: \" Hello Python \"\n",
    "# 출력 예: \"ehhllnoopty\"\n"
   ]
  },
  {
   "cell_type": "markdown",
   "id": "73c076b7",
   "metadata": {},
   "source": [
    "# 실습문제 3: 불변 vs 가변 - 함수 안의 값 변화 실험\n",
    "## 문제 설명:\n",
    "- 아래 코드에서 변수들이 함수 안에서 어떻게 변하는지 실행하고, 불변/가변, 참조/복사 개념을 기준으로 왜 그런 결과가 나왔는지 설명하세요.\n",
    "\n",
    "=>  이 문제는 시험과는 무관할 수 있으니, 재미삼아 풀어보세요"
   ]
  },
  {
   "cell_type": "code",
   "execution_count": null,
   "id": "f6bcb266",
   "metadata": {},
   "outputs": [],
   "source": [
    "# 실습문제 3\n",
    "\n",
    "def change_data(n, lst):\n",
    "    n += 1\n",
    "    lst.append(99)\n",
    "\n",
    "x = 10\n",
    "y = [1, 2, 3]\n",
    "\n",
    "change_data(x, y)\n",
    "\n",
    "print(\"x:\", x)\n",
    "print(\"y:\", y)\n",
    "\n",
    "\n",
    "# 예상 결과\n",
    "# x: 10\n",
    "# y: [1, 2, 3, 99]"
   ]
  }
 ],
 "metadata": {
  "kernelspec": {
   "display_name": "3.11.11",
   "language": "python",
   "name": "python3"
  },
  "language_info": {
   "name": "python",
   "version": "3.11.11"
  }
 },
 "nbformat": 4,
 "nbformat_minor": 5
}
