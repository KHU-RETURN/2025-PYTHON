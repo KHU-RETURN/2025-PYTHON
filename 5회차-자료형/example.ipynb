{
 "cells": [
  {
   "cell_type": "markdown",
   "id": "882b3874",
   "metadata": {},
   "source": [
    "## 0. 강의 목표\n",
    "\n",
    "- 변수를 복습하고 자료형, 형변환이 무엇인지 이해한다.\n",
    "- 파이썬의 자료형에 대해 알아본다.\n",
    "- 여러 자료형이 모인 컬렉션 타입에 대해 알아본다.\n",
    "- 자료형에 탑재된 기능인 메서드를 살펴본다.\n",
    "- 파이썬의 불변, 가변 객체와 비교, 참조의 차이점을 이해한다.\n"
   ]
  },
  {
   "cell_type": "markdown",
   "id": "7a358bd1",
   "metadata": {},
   "source": [
    "## 1. 변수 복습과 자료형이란?\n",
    "\n",
    "### 변수란?\n",
    "\n",
    "변수(variable)는 데이터를 저장할 수 있는 이름이 붙은 공간입니다.\n"
   ]
  },
  {
   "cell_type": "code",
   "execution_count": null,
   "id": "3bec8eeb",
   "metadata": {},
   "outputs": [],
   "source": [
    "# 변수 정의 예시\n",
    "age = 20\n",
    "name = \"Alice\"\n",
    "is_student = True\n",
    "\n",
    "print(age)\n",
    "print(name)\n",
    "print(is_student)\n"
   ]
  },
  {
   "cell_type": "markdown",
   "id": "39ba1fa3",
   "metadata": {},
   "source": [
    "### 변수 선언 규칙\n"
   ]
  },
  {
   "cell_type": "code",
   "execution_count": null,
   "id": "9a1f6e61",
   "metadata": {},
   "outputs": [],
   "source": [
    "# 변수 이름은 숫자로 시작할 수 없음\n",
    "# 2name = \"Bob\"  # SyntaxError\n",
    "\n",
    "# 공백이 들어간 변수는 선언 불가\n",
    "# user name = \"Charlie\"  # SyntaxError\n",
    "\n",
    "# 예약어는 변수로 사용 불가\n",
    "# if = 3  # SyntaxError\n",
    "\n",
    "# 의미 있는 이름으로 선언\n",
    "user_name = \"David\"\n",
    "print(user_name)\n"
   ]
  },
  {
   "cell_type": "markdown",
   "id": "68993ec1",
   "metadata": {},
   "source": [
    "### 변수의 값 변경과 재사용\n"
   ]
  },
  {
   "cell_type": "code",
   "execution_count": null,
   "id": "519e0448",
   "metadata": {},
   "outputs": [],
   "source": [
    "score = 85\n",
    "print(\"기본 점수:\", score)\n",
    "\n",
    "score = score + 10\n",
    "print(\"가산 후 점수:\", score)\n"
   ]
  },
  {
   "cell_type": "markdown",
   "id": "1f5220d4",
   "metadata": {},
   "source": [
    "### 파이썬 변수 선언 시 주의점\n"
   ]
  },
  {
   "cell_type": "code",
   "execution_count": null,
   "id": "36d210d7",
   "metadata": {},
   "outputs": [],
   "source": [
    "# 값을 넣지 않으면 에러 발생\n",
    "# print(x)  # NameError\n",
    "\n",
    "# 선언과 동시에 값을 할당\n",
    "x = 10\n",
    "print(x)\n"
   ]
  },
  {
   "cell_type": "markdown",
   "id": "6ec5bb4e",
   "metadata": {},
   "source": [
    "## 자료형과 등장 배경\n"
   ]
  },
  {
   "cell_type": "markdown",
   "id": "e19199cb",
   "metadata": {},
   "source": [
    "과거에는 메모리를 수동으로 관리해야 했습니다. 자료형은 어떤 값이 어느 정도 메모리를 차지하고 어떤 연산을 수행할 수 있는지를 정의합니다.\n"
   ]
  },
  {
   "cell_type": "markdown",
   "id": "6e599ea7",
   "metadata": {},
   "source": [
    "### 자료형(type)이란?\n",
    "\n",
    "자료형은 변수에 저장되는 값의 종류를 말합니다.\n"
   ]
  },
  {
   "cell_type": "code",
   "execution_count": null,
   "id": "ab80b4a8",
   "metadata": {},
   "outputs": [],
   "source": [
    "# 파이썬은 자동으로 자료형을 인식함\n",
    "age = 20\n",
    "name = \"Alice\"\n",
    "is_student = True\n",
    "\n",
    "print(type(age))         # <class 'int'>\n",
    "print(type(name))        # <class 'str'>\n",
    "print(type(is_student))  # <class 'bool'>\n"
   ]
  },
  {
   "cell_type": "code",
   "execution_count": null,
   "id": "bf3ea8bc",
   "metadata": {},
   "outputs": [],
   "source": [
    "# 변수에 다른 타입 값을 계속 넣을 수 있음\n",
    "A = 1\n",
    "print(A, type(A))  # int\n",
    "\n",
    "A = 'hi'\n",
    "print(A, type(A))  # str\n",
    "\n",
    "A = True\n",
    "print(A, type(A))  # bool\n"
   ]
  },
  {
   "cell_type": "markdown",
   "id": "fe20d8a3",
   "metadata": {},
   "source": [
    "### type() 함수 사용 예시\n"
   ]
  },
  {
   "cell_type": "code",
   "execution_count": null,
   "id": "967ece60",
   "metadata": {},
   "outputs": [],
   "source": [
    "x = 42\n",
    "print(type(x))\n",
    "\n",
    "print(type(3.14))\n",
    "print(type(\"hello\"))\n",
    "print(type([1, 2, 3]))\n",
    "print(type(None))\n"
   ]
  },
  {
   "cell_type": "markdown",
   "id": "85105346",
   "metadata": {},
   "source": [
    "### 변수와 자료형의 정확한 이해\n"
   ]
  },
  {
   "cell_type": "code",
   "execution_count": null,
   "id": "23c4b739",
   "metadata": {},
   "outputs": [],
   "source": [
    "# 변수는 객체를 가리키는 이름\n",
    "x = 42\n",
    "print(\"값:\", x)\n",
    "print(\"자료형:\", type(x))\n",
    "print(\"id(메모리 주소):\", id(x))\n",
    "\n",
    "x = \"hello\"\n",
    "print(\"값:\", x)\n",
    "print(\"자료형:\", type(x))\n",
    "print(\"id(메모리 주소):\", id(x))\n"
   ]
  },
  {
   "cell_type": "markdown",
   "id": "b275175e",
   "metadata": {},
   "source": [
    "## 2. 형변환(Type Casting)\n",
    "\n",
    "형변환(Type Casting)이란 변수나 값의 자료형을 다른 자료형으로 바꾸는 것을 의미합니다.\n"
   ]
  },
  {
   "cell_type": "code",
   "execution_count": null,
   "id": "86415ab7",
   "metadata": {},
   "outputs": [],
   "source": [
    "# 명시적 형변환 예시\n",
    "print(int(\"10\"))\n",
    "print(float(\"3.14\"))\n",
    "print(str(123))\n",
    "print(bool([]))\n",
    "print(list(\"abc\"))\n"
   ]
  },
  {
   "cell_type": "code",
   "execution_count": null,
   "id": "e2d9baf5",
   "metadata": {},
   "outputs": [],
   "source": [
    "# 암시적 형변환 예시\n",
    "x = 10\n",
    "y = 3.14\n",
    "z = x + y\n",
    "print(z)\n",
    "print(type(z))\n"
   ]
  },
  {
   "cell_type": "code",
   "execution_count": null,
   "id": "d0dc8498",
   "metadata": {},
   "outputs": [],
   "source": [
    "# 암시적 형변환 불가 예시\n",
    "# print(\"3\" + 4)  # TypeError\n"
   ]
  },
  {
   "cell_type": "markdown",
   "id": "c05c616f",
   "metadata": {},
   "source": [
    "### 주요 형변환 함수 예시\n"
   ]
  },
  {
   "cell_type": "code",
   "execution_count": null,
   "id": "7bde0281",
   "metadata": {},
   "outputs": [],
   "source": [
    "# 숫자형 변환\n",
    "print(int(3.9))     # 3\n",
    "print(float(10))    # 10.0\n",
    "\n",
    "# 문자열 변환\n",
    "print(str(123))     # '123'\n",
    "print(str(True))    # 'True'\n",
    "\n",
    "# 불리언 변환\n",
    "print(bool(0))      # False\n",
    "print(bool(1))      # True\n",
    "print(bool(\"\"))     # False\n",
    "print(bool(\"Hi\"))   # True\n",
    "\n",
    "# 컬렉션 변환\n",
    "print(list(\"abc\"))                  # ['a', 'b', 'c']\n",
    "print(tuple([1, 2, 3]))             # (1, 2, 3)\n",
    "print(set([1, 2, 2, 3]))            # {1, 2, 3}\n",
    "print(list({\"a\": 1, \"b\": 2}))       # ['a', 'b']\n"
   ]
  },
  {
   "cell_type": "code",
   "execution_count": null,
   "id": "0a1f2d22",
   "metadata": {},
   "outputs": [],
   "source": [
    "# 형변환 불가능한 경우\n",
    "# print(int(\"hello\"))  # ValueError\n",
    "# print(list(10))      # TypeError\n"
   ]
  },
  {
   "cell_type": "markdown",
   "id": "5b7e6055",
   "metadata": {},
   "source": [
    "## 3. 파이썬 자료형\n"
   ]
  },
  {
   "cell_type": "code",
   "execution_count": null,
   "id": "ef189e08",
   "metadata": {},
   "outputs": [],
   "source": [
    "# 기본 자료형 확인\n",
    "print(type(42))            # int\n",
    "print(type(3.14))          # float\n",
    "print(type(\"hello\"))       # str\n",
    "print(type(True))          # bool\n",
    "print(type(None))          # NoneType\n",
    "print(type([1, 2, 3]))     # list\n",
    "print(type((1, 2, 3)))     # tuple\n",
    "print(type({1, 2, 3}))     # set\n",
    "print(type({\"a\": 1}))      # dict\n"
   ]
  },
  {
   "cell_type": "markdown",
   "id": "81f5829e",
   "metadata": {},
   "source": [
    "## 4. 컬렉션 자료형\n"
   ]
  },
  {
   "cell_type": "code",
   "execution_count": null,
   "id": "e79cc853",
   "metadata": {},
   "outputs": [],
   "source": [
    "# 문자열\n",
    "greeting = \"hello\"\n",
    "print(greeting[1])\n"
   ]
  },
  {
   "cell_type": "code",
   "execution_count": null,
   "id": "fb4a93a5",
   "metadata": {},
   "outputs": [],
   "source": [
    "# 리스트\n",
    "fruits = ['apple', 'banana', 'cherry']\n",
    "print(fruits[0])\n"
   ]
  },
  {
   "cell_type": "code",
   "execution_count": null,
   "id": "92868702",
   "metadata": {},
   "outputs": [],
   "source": [
    "# 튜플\n",
    "point = (10, 20)\n",
    "print(point[0])\n"
   ]
  },
  {
   "cell_type": "code",
   "execution_count": null,
   "id": "cc8dac60",
   "metadata": {},
   "outputs": [],
   "source": [
    "# 세트\n",
    "unique_numbers = {1, 2, 2, 3}\n",
    "print(unique_numbers)\n",
    "\n",
    "numbers = [1, 2, 2, 3, 4, 4, 5]\n",
    "unique_list = list(set(numbers))\n",
    "print(unique_list)\n"
   ]
  },
  {
   "cell_type": "code",
   "execution_count": null,
   "id": "68e64fb5",
   "metadata": {},
   "outputs": [],
   "source": [
    "# 딕셔너리\n",
    "student = {\"name\": \"Alice\", \"age\": 20}\n",
    "print(student[\"name\"])\n"
   ]
  },
  {
   "cell_type": "code",
   "execution_count": null,
   "id": "4835e7a7",
   "metadata": {},
   "outputs": [],
   "source": [
    "# in 연산자\n",
    "print(\"a\" in \"banana\")\n",
    "print(\"apple\" in [\"apple\", \"banana\"])\n",
    "print(3 in (1, 2, 3))\n",
    "print(\"name\" in {\"name\": \"Tom\"})\n"
   ]
  },
  {
   "cell_type": "code",
   "execution_count": null,
   "id": "f944c22e",
   "metadata": {},
   "outputs": [],
   "source": [
    "# 내장 함수\n",
    "print(len([1, 2, 3]))\n",
    "print(sorted(\"hello\"))\n",
    "print(type((1, 2, 3)))\n"
   ]
  },
  {
   "cell_type": "code",
   "execution_count": null,
   "id": "ddb00a82",
   "metadata": {},
   "outputs": [],
   "source": [
    "# 요소 접근\n",
    "lst = [10, 20, 30]\n",
    "print(lst[1])\n",
    "\n",
    "d = {\"name\": \"Tom\"}\n",
    "print(d[\"name\"])\n"
   ]
  },
  {
   "cell_type": "code",
   "execution_count": null,
   "id": "6b194f3a",
   "metadata": {},
   "outputs": [],
   "source": [
    "# 형변환\n",
    "s = \"hello\"\n",
    "print(list(s))\n",
    "\n",
    "lst = [1, 2, 2, 3]\n",
    "print(set(lst))\n",
    "\n",
    "d = [(\"name\", \"Tom\"), (\"age\", 30)]\n",
    "print(dict(d))\n"
   ]
  },
  {
   "cell_type": "code",
   "execution_count": null,
   "id": "f180cb20",
   "metadata": {},
   "outputs": [],
   "source": [
    "# bool 변환\n",
    "collection = [1, 2, 3]\n",
    "if collection:\n",
    "    print(\"비어있지 않습니다.\")\n",
    "\n",
    "collection2 = []\n",
    "if collection2:\n",
    "    print(\"비어있습니다.\")\n"
   ]
  }
 ],
 "metadata": {
  "language_info": {
   "name": "python"
  }
 },
 "nbformat": 4,
 "nbformat_minor": 5
}
