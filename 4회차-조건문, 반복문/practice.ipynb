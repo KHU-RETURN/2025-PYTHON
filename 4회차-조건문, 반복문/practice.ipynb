{
 "cells": [
  {
   "cell_type": "markdown",
   "id": "adcde1db",
   "metadata": {},
   "source": [
    "# 실습문제 1: 약수 구하기\n",
    "## 문제 설명:\n",
    "정수를 입력받아 1부터 해당 수까지의 약수(divisor) 를 출력하는 프로그램을 작성하세요.\n",
    "\n",
    "## 요구사항:\n",
    "\n",
    "- int(input(...))으로 양의 정수를 입력받는다\n",
    "\n",
    "- 반복문을 통해 1부터 해당 수까지 순회한다\n",
    "\n",
    "- 조건문을 사용해 나누어 떨어지는 수만 출력한다\n",
    "\n",
    "- 출력 예시: 24 → 1 2 3 4 6 8 12 24"
   ]
  },
  {
   "cell_type": "code",
   "execution_count": null,
   "id": "0fcba4be",
   "metadata": {},
   "outputs": [],
   "source": [
    "# 실습문제 1\n",
    "\n",
    "num = int(input(\"양의 정수를 입력하세요: \"))\n",
    "\n",
    "# 약수를 출력하는 코드 작성\n"
   ]
  },
  {
   "cell_type": "markdown",
   "id": "459aa923",
   "metadata": {},
   "source": [
    "# 실습문제 2: 1~100 사이의 3의 배수이면서 5의 배수가 아닌 수 출력\n",
    "## 문제 설명:\n",
    "1부터 100까지의 수 중에서, 3의 배수이지만 5의 배수는 아닌 수만 출력하세요.\n",
    "\n",
    "## 요구사항:\n",
    "\n",
    "- range()와 for문 사용\n",
    "\n",
    "- 조건: 3으로 나누어떨어짐 and 5로 나누어떨어지지 않음\n",
    "\n",
    "- 조건을 만족하는 숫자만 출력"
   ]
  },
  {
   "cell_type": "code",
   "execution_count": null,
   "id": "c02f41a1",
   "metadata": {},
   "outputs": [],
   "source": [
    "# 실습문제 2\n",
    "\n",
    "# 1부터 100까지 순회\n",
    "# 3의 배수 and 5의 배수가 아닌 경우만 출력\n"
   ]
  },
  {
   "cell_type": "markdown",
   "id": "006a12b9",
   "metadata": {},
   "source": [
    "# 실습문제 3: 숫자 추측 게임\n",
    "## 문제 설명:\n",
    "컴퓨터가 정한 숫자를 맞추는 게임입니다.\n",
    "1 ~ 50 사이의 정답을 정해두고, 사용자가 숫자를 계속 입력하며 정답을 맞출 때까지 반복합니다.\n",
    "\n",
    "## 요구사항:\n",
    "\n",
    "- 정답은 정수 상수로 직접 지정 (ex. answer = 37)\n",
    "\n",
    "- 사용자 입력 → 정답보다 크면 \"너무 커요\", 작으면 \"너무 작아요\" 출력\n",
    "\n",
    "- 정답이면 \"정답입니다!\" 출력 후 종료\n",
    "\n",
    "- while 문과 break 사용\n",
    "\n",
    "- 반복 횟수를 세어 마지막에 출력"
   ]
  },
  {
   "cell_type": "code",
   "execution_count": null,
   "id": "46b0d127",
   "metadata": {},
   "outputs": [],
   "source": [
    "# 실습문제 3\n",
    "\n",
    "answer = 37  # 컴퓨터가 정한 정답\n",
    "attempts = 0\n",
    "\n",
    "# 사용자에게 입력을 받고 정답이 나올 때까지 반복\n"
   ]
  }
 ],
 "metadata": {
  "kernelspec": {
   "display_name": "3.11.11",
   "language": "python",
   "name": "python3"
  },
  "language_info": {
   "name": "python",
   "version": "3.11.11"
  }
 },
 "nbformat": 4,
 "nbformat_minor": 5
}
