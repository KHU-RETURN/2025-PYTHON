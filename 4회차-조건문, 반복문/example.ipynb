{
 "cells": [
  {
   "cell_type": "markdown",
   "id": "798afec7",
   "metadata": {},
   "source": [
    "## 0. 강의 목표\n",
    "\n",
    "- 조건문과 반복문의 기초 개념을 이해하고, 프로그램의 흐름을 제어하는 방법을 학습한다.\n",
    "- `bool` 타입과 비교, 논리 연산자의 역할을 파악한다.\n",
    "- `if`, `elif`, `else`를 활용해 조건 분기 로직을 구성할 수 있다.\n",
    "- 리스트, 문자열 등 이터러블 객체의 개념을 익히고, 이를 기반으로 `for`, `while` 반복문을 사용할 수 있다.\n",
    "- `break`, `continue` 같은 반복 제어문의 사용법과 주의점을 이해한다.\n",
    "- `range`, `enumerate`, `zip` 같은 반복 도우미 함수를 사용한다.\n"
   ]
  },
  {
   "cell_type": "markdown",
   "id": "214cc1bc",
   "metadata": {},
   "source": [
    "## 1. Boolean과 비교연산자, 논리연산자\n",
    "\n",
    "### Boolean\n",
    "\n",
    "Boolean(불리언)은 조지 불(boole)이라는 사람의 이름에서 따온 개념으로 참과 거짓만을 가질 수 있는 데이터 타입을 말합니다. 파이썬에서는 이런 boolean을 표현하기 위해 `bool` 이라는 자료형을 사용합니다.\n",
    "\n",
    "이런 `bool` 타입은 조건문과 논리 연산의 기본이 되는 자료형입니다.\n"
   ]
  },
  {
   "cell_type": "code",
   "execution_count": null,
   "id": "a23ebcbd",
   "metadata": {},
   "outputs": [],
   "source": [
    "bool1 = True\n",
    "bool2 = False\n",
    "print(type(bool1), bool1)\n",
    "print(type(bool2), bool2)\n"
   ]
  },
  {
   "cell_type": "markdown",
   "id": "e6f97bed",
   "metadata": {},
   "source": [
    "### 비교 연산자\n",
    "\n",
    "비교 연산자는 양쪽 항(피연산자)의 값을 비교한 후 `bool` 타입의 값을 반환하는 연산자입니다.\n"
   ]
  },
  {
   "cell_type": "code",
   "execution_count": null,
   "id": "813309b6",
   "metadata": {},
   "outputs": [],
   "source": [
    "# 비교 연산자 예시\n",
    "bool1 = 1 == 1\n",
    "bool2 = 1 != 2\n",
    "bool3 = 1 > 2\n",
    "bool4 = 1 >= 2\n",
    "bool5 = 1 < 2\n",
    "bool6 = 1 <= 2\n",
    "\n",
    "print(bool1, bool2, bool3, bool4, bool5, bool6)\n"
   ]
  },
  {
   "cell_type": "code",
   "execution_count": null,
   "id": "c7b4148e",
   "metadata": {},
   "outputs": [],
   "source": [
    "# 문자열 비교\n",
    "print('apple' < 'banana')  # True\n",
    "print('A' < 'a')           # True\n"
   ]
  },
  {
   "cell_type": "code",
   "execution_count": null,
   "id": "0cfc62df",
   "metadata": {},
   "outputs": [],
   "source": [
    "# 리스트/튜플 비교\n",
    "print([1, 2, 3] < [1, 2, 4])  # True\n",
    "print((1, 2) < (1, 2, 0))     # True\n"
   ]
  },
  {
   "cell_type": "markdown",
   "id": "0573ed5e",
   "metadata": {},
   "source": [
    "### 논리 연산자\n",
    "\n",
    "논리 연산자는 `bool` 값 또는 비교연산자 식을 조합할 때 사용하는 연산자입니다. `and`, `or`, `not` 의 세 가지 종류가 있습니다.\n"
   ]
  },
  {
   "cell_type": "code",
   "execution_count": null,
   "id": "bcd2d194",
   "metadata": {},
   "outputs": [],
   "source": [
    "# not 연산자\n",
    "print(\"not True =\", not True)\n",
    "print(\"not False =\", not False)\n"
   ]
  },
  {
   "cell_type": "code",
   "execution_count": null,
   "id": "7c186f32",
   "metadata": {},
   "outputs": [],
   "source": [
    "# and 연산자\n",
    "print(\"True and True =\", True and True)\n",
    "print(\"True and False =\", True and False)\n",
    "print(\"False and True =\", False and True)\n",
    "print(\"False and False =\", False and False)\n"
   ]
  },
  {
   "cell_type": "code",
   "execution_count": null,
   "id": "871a4733",
   "metadata": {},
   "outputs": [],
   "source": [
    "# or 연산자\n",
    "print(\"True or True =\", True or True)\n",
    "print(\"True or False =\", True or False)\n",
    "print(\"False or True =\", False or True)\n",
    "print(\"False or False =\", False or False)\n"
   ]
  },
  {
   "cell_type": "code",
   "execution_count": null,
   "id": "d9bef436",
   "metadata": {},
   "outputs": [],
   "source": [
    "# 우선순위 테스트\n",
    "print(\"not True or False =\", not True or False)\n",
    "print(\"not (True or False) =\", not (True or False))\n",
    "print(\"True or True and False =\", True or True and False)\n",
    "print(\"(True or True) and False =\", (True or True) and False)\n",
    "print(\"not True and False =\", not True and False)\n",
    "print(\"not (True and False) =\", not (True and False))\n"
   ]
  },
  {
   "cell_type": "markdown",
   "id": "a83afab7",
   "metadata": {},
   "source": [
    "## 2. 조건문\n",
    "\n",
    "조건문은 어떤 조건이 맞는지 아닌지에 따라 코드의 수행 결과가 달라지는 문장입니다.\n"
   ]
  },
  {
   "cell_type": "code",
   "execution_count": null,
   "id": "e957c544",
   "metadata": {},
   "outputs": [],
   "source": [
    "# if 문 기본 구조\n",
    "ph = float(input(\"Enter the pH level: \"))\n",
    "if ph < 7.0:\n",
    "    print(\"Acidic\")\n"
   ]
  },
  {
   "cell_type": "code",
   "execution_count": null,
   "id": "d8888fa5",
   "metadata": {},
   "outputs": [],
   "source": [
    "# if-else 문\n",
    "ph = float(input(\"Enter the pH level: \"))\n",
    "if ph < 7.0:\n",
    "    print(\"Acidic\")\n",
    "else:\n",
    "    print(\"Not Acidic\")\n"
   ]
  },
  {
   "cell_type": "code",
   "execution_count": null,
   "id": "67a62a47",
   "metadata": {},
   "outputs": [],
   "source": [
    "# if-elif-else 문\n",
    "ph = float(input(\"Enter the pH level: \"))\n",
    "if ph == 7.0:\n",
    "    print(\"Neutral\")\n",
    "elif ph < 7.0:\n",
    "    print(\"Acidic\")\n",
    "else:\n",
    "    print(\"Alkaline\")\n"
   ]
  },
  {
   "cell_type": "code",
   "execution_count": null,
   "id": "96a1a64d",
   "metadata": {},
   "outputs": [],
   "source": [
    "# elif 여러 개\n",
    "score = int(input(\"Enter your score: \"))\n",
    "if score >= 90:\n",
    "    print(\"A\")\n",
    "elif score >= 80:\n",
    "    print(\"B\")\n",
    "elif score >= 70:\n",
    "    print(\"C\")\n",
    "elif score >= 60:\n",
    "    print(\"D\")\n",
    "else:\n",
    "    print(\"F\")\n"
   ]
  },
  {
   "cell_type": "code",
   "execution_count": null,
   "id": "01fb5feb",
   "metadata": {},
   "outputs": [],
   "source": [
    "# if if vs if elif 비교\n",
    "x = int(input(\"숫자를 입력하세요: \"))\n",
    "\n",
    "if x > 0:\n",
    "    print(\"양수입니다.\")\n",
    "if x % 2 == 0:\n",
    "    print(\"짝수입니다.\")\n"
   ]
  },
  {
   "cell_type": "code",
   "execution_count": null,
   "id": "bf17c59b",
   "metadata": {},
   "outputs": [],
   "source": [
    "# 위와 동일한 조건을 elif로 구성하면?\n",
    "x = int(input(\"숫자를 입력하세요: \"))\n",
    "\n",
    "if x > 0:\n",
    "    print(\"양수입니다.\")\n",
    "elif x % 2 == 0:\n",
    "    print(\"짝수입니다.\")\n"
   ]
  },
  {
   "cell_type": "markdown",
   "id": "84c5f9b9",
   "metadata": {},
   "source": [
    "## 3. 리스트와 이터러블(Iterable)\n",
    "\n",
    "### 리스트(List)란?\n",
    "\n",
    "리스트는 파이썬의 자료형 중 하나로 목록이라는 이름의 뜻과 같이 여러 값을 순서대로 저장할 수 있는 자료구조입니다. \n",
    "\n",
    "리스트는 대괄호([])로 감싸서 만들며, 리스트에 들어있는 값들은 “요소(Element)”라는 이름으로 부릅니다.      \n",
    "이 요소는 값, 값이 들어있는 변수, 함수 등등 값의 자리에 들어갈 수 있는 모든 객체들이 들어갈 수 있습니다.   \n",
    "\n",
    "리스트는 순서가 존재하는 자료형으로 각 요소의 순서를 “인덱스(Index)”라고 합니다. 이 인덱스는 0부터 시작하며,    \n",
    "n개의 요소를 가진 리스트라 하면 0부터 n-1까지의 인덱스를 가지게 되는 것입니다.    \n",
    "\n",
    "리스트에서 요소를 조회하기 위해서는 그 순서인 인덱스를 통해 리스트[인덱스] 의 형태로 값을 불러옵니다.\n"
   ]
  },
  {
   "cell_type": "code",
   "execution_count": null,
   "id": "0f8def80",
   "metadata": {},
   "outputs": [],
   "source": [
    "# 리스트 예제\n",
    "fruits = [\"apple\", \"banana\", \"cherry\"]\n",
    "print(fruits[0])  # 인덱스를 이용한 접근\n",
    "print(fruits[1])\n",
    "print(fruits[2])\n"
   ]
  },
  {
   "cell_type": "markdown",
   "id": "e15e7b50",
   "metadata": {},
   "source": [
    "### 이터러블(Iterable)\n",
    "\n",
    "이터러블은 \"순회 가능한 것\"이라는 의미로, 반복문을 통해 하나씩 순회할 수 있는 자료형입니다.\n"
   ]
  },
  {
   "cell_type": "code",
   "execution_count": null,
   "id": "60c0cd0f",
   "metadata": {},
   "outputs": [],
   "source": [
    "# 다양한 이터러블 타입\n",
    "print(type([1, 2, 3]))        # list\n",
    "print(type((1, 2, 3)))        # tuple\n",
    "print(type(\"hello\"))         # str\n",
    "print(type({'a': 1}))        # dict\n",
    "print(type({1, 2, 3}))       # set\n",
    "print(type(range(5)))        # range\n"
   ]
  },
  {
   "cell_type": "markdown",
   "id": "11207867",
   "metadata": {},
   "source": [
    "## 4. 반복문과 반복 제어문\n",
    "\n",
    "### for 문\n"
   ]
  },
  {
   "cell_type": "code",
   "execution_count": null,
   "id": "697b8782",
   "metadata": {},
   "outputs": [],
   "source": [
    "# 리스트를 이용한 for문 예제\n",
    "for fruit in [\"apple\", \"banana\", \"cherry\"]:\n",
    "    print(fruit)\n"
   ]
  },
  {
   "cell_type": "code",
   "execution_count": null,
   "id": "2aab726c",
   "metadata": {},
   "outputs": [],
   "source": [
    "# 문자열을 이용한 for문 예제\n",
    "for char in \"apple\":\n",
    "    print(char)\n"
   ]
  },
  {
   "cell_type": "code",
   "execution_count": null,
   "id": "9134218e",
   "metadata": {},
   "outputs": [],
   "source": [
    "# range()를 이용한 for문 예제\n",
    "for i in range(3):\n",
    "    print(\"i =\", i)\n"
   ]
  },
  {
   "cell_type": "markdown",
   "id": "4ae05b32",
   "metadata": {},
   "source": [
    "### while 문\n"
   ]
  },
  {
   "cell_type": "code",
   "execution_count": null,
   "id": "ac83785e",
   "metadata": {},
   "outputs": [],
   "source": [
    "# while문 예제\n",
    "count = 0\n",
    "while count < 3:\n",
    "    print(\"count =\", count)\n",
    "    count += 1\n"
   ]
  },
  {
   "cell_type": "code",
   "execution_count": null,
   "id": "0f6263cd",
   "metadata": {},
   "outputs": [],
   "source": [
    "# 진짜 무한 루프예제 -> 종료하고 싶으면 좌측 네모버튼 누르세요\n",
    "while True:\n",
    "    print('한무루프')"
   ]
  },
  {
   "cell_type": "code",
   "execution_count": null,
   "id": "c9d21c97",
   "metadata": {},
   "outputs": [],
   "source": [
    "# 무한 루프와 break 예제\n",
    "while True:\n",
    "    command = input(\"명령을 입력하세요 (exit 입력 시 종료): \")\n",
    "    if command == \"exit\":\n",
    "        print(\"프로그램을 종료합니다.\")\n",
    "        break\n",
    "    print(\"입력하신 명령:\", command)\n"
   ]
  },
  {
   "cell_type": "markdown",
   "id": "8dff9727",
   "metadata": {},
   "source": [
    "### break 예제\n"
   ]
  },
  {
   "cell_type": "code",
   "execution_count": null,
   "id": "b98e9cee",
   "metadata": {},
   "outputs": [],
   "source": [
    "for i in range(10):\n",
    "    if i == 5:\n",
    "        break\n",
    "    print(i)\n"
   ]
  },
  {
   "cell_type": "markdown",
   "id": "43c92434",
   "metadata": {},
   "source": [
    "### continue 예제\n"
   ]
  },
  {
   "cell_type": "code",
   "execution_count": null,
   "id": "3e058abc",
   "metadata": {},
   "outputs": [],
   "source": [
    "for i in range(5):\n",
    "    if i == 2:\n",
    "        continue\n",
    "    print(i)\n"
   ]
  },
  {
   "cell_type": "code",
   "execution_count": null,
   "id": "7cb11ce3",
   "metadata": {},
   "outputs": [],
   "source": [
    "# while문에서 continue 주의 예제\n",
    "count = 0\n",
    "while count < 5:\n",
    "    if count == 2:\n",
    "        count += 1  # 조건을 변경하는 코드는 continue 위에 위치해야 함\n",
    "        continue\n",
    "    print(\"count =\", count)\n",
    "    count += 1\n"
   ]
  },
  {
   "cell_type": "markdown",
   "id": "8d77bc6e",
   "metadata": {},
   "source": [
    "## 5. 반복문에 사용되는 도구\n",
    "\n",
    "### 1. range()\n"
   ]
  },
  {
   "cell_type": "code",
   "execution_count": null,
   "id": "4678d1a3",
   "metadata": {},
   "outputs": [],
   "source": [
    "for i in range(5):\n",
    "    print(i)\n",
    "\n",
    "for i in range(1, 10, 2):\n",
    "    print(i)\n",
    "\n",
    "for i in range(5, 0, -1):\n",
    "    print(i)\n"
   ]
  },
  {
   "cell_type": "markdown",
   "id": "b8188a62",
   "metadata": {},
   "source": [
    "### 2. len()\n"
   ]
  },
  {
   "cell_type": "code",
   "execution_count": null,
   "id": "62ab16ba",
   "metadata": {},
   "outputs": [],
   "source": [
    "colors = [\"red\", \"green\", \"blue\"]\n",
    "for i in range(len(colors)):\n",
    "    print(i, colors[i])\n"
   ]
  },
  {
   "cell_type": "markdown",
   "id": "e8addb43",
   "metadata": {},
   "source": [
    "### 3. enumerate()\n"
   ]
  },
  {
   "cell_type": "code",
   "execution_count": null,
   "id": "3c2fe4dc",
   "metadata": {},
   "outputs": [],
   "source": [
    "fruits = [\"apple\", \"banana\", \"cherry\"]\n",
    "for index, fruit in enumerate(fruits):\n",
    "    print(index, fruit)\n",
    "\n",
    "for index, fruit in enumerate(fruits, start=1):\n",
    "    print(index, fruit)\n"
   ]
  },
  {
   "cell_type": "markdown",
   "id": "ba2d5509",
   "metadata": {},
   "source": [
    "### 4. zip()\n"
   ]
  },
  {
   "cell_type": "code",
   "execution_count": null,
   "id": "ae311f6b",
   "metadata": {},
   "outputs": [],
   "source": [
    "names = [\"Alice\", \"Bob\", \"Charlie\"]\n",
    "scores = [90, 85, 92]\n",
    "\n",
    "for name, score in zip(names, scores):\n",
    "    print(name, score)\n"
   ]
  },
  {
   "cell_type": "markdown",
   "id": "271d49eb",
   "metadata": {},
   "source": [
    "### 5. 리스트 컴프리헨션\n"
   ]
  },
  {
   "cell_type": "code",
   "execution_count": null,
   "id": "388ae31f",
   "metadata": {},
   "outputs": [],
   "source": [
    "# 일반적인 for문\n",
    "squares = []\n",
    "for i in range(5):\n",
    "    squares.append(i * i)\n",
    "print(squares)\n",
    "\n",
    "# 리스트 컴프리헨션\n",
    "squares = [i * i for i in range(5)]\n",
    "print(squares)\n"
   ]
  },
  {
   "cell_type": "markdown",
   "id": "81a5a63e",
   "metadata": {},
   "source": [
    "## 6. 중첩 조건문, 중첩 반복문\n",
    "\n",
    "### 중첩 조건문\n"
   ]
  },
  {
   "cell_type": "code",
   "execution_count": null,
   "id": "e86f7c35",
   "metadata": {},
   "outputs": [],
   "source": [
    "score = 85\n",
    "\n",
    "if score >= 70:\n",
    "    if score >= 90:\n",
    "        print(\"A 학점입니다.\")\n",
    "    else:\n",
    "        print(\"B 학점입니다.\")\n",
    "else:\n",
    "    print(\"C 학점입니다.\")\n"
   ]
  },
  {
   "cell_type": "markdown",
   "id": "c5354bbe",
   "metadata": {},
   "source": [
    "### 중첩 반복문\n"
   ]
  },
  {
   "cell_type": "code",
   "execution_count": null,
   "id": "1aea72b2",
   "metadata": {},
   "outputs": [],
   "source": [
    "for i in range(3):\n",
    "    for j in range(2):\n",
    "        print(i, j)\n"
   ]
  },
  {
   "cell_type": "markdown",
   "id": "d9271f65",
   "metadata": {},
   "source": [
    "### 조건문과 반복문의 중첩\n"
   ]
  },
  {
   "cell_type": "code",
   "execution_count": null,
   "id": "675fbeba",
   "metadata": {},
   "outputs": [],
   "source": [
    "for i in range(5):\n",
    "    if i % 2 == 0:\n",
    "        print(i, \"는 짝수입니다.\")\n",
    "    else:\n",
    "        print(i, \"는 홀수입니다.\")\n"
   ]
  },
  {
   "cell_type": "code",
   "execution_count": null,
   "id": "7e4bb9b1",
   "metadata": {},
   "outputs": [],
   "source": [
    "for i in range(3):\n",
    "    print(\"i =\", i)\n",
    "    if i == 1:\n",
    "        for j in range(2):\n",
    "            print(\"  j =\", j)\n"
   ]
  }
 ],
 "metadata": {
  "language_info": {
   "name": "python"
  }
 },
 "nbformat": 4,
 "nbformat_minor": 5
}
