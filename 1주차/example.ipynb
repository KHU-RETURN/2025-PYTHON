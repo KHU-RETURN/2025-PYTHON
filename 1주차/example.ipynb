{
 "cells": [
  {
   "cell_type": "code",
   "execution_count": 1,
   "metadata": {},
   "outputs": [
    {
     "name": "stdout",
     "output_type": "stream",
     "text": [
      "Welcome to the Python class!\n",
      "Let's set up our environment and start coding!\n"
     ]
    }
   ],
   "source": [
    "# 1. 수업 소개 및 파이썬, 실습환경 구축\n",
    "print('Welcome to the Python class!')\n",
    "print('Let\\'s set up our environment and start coding!')\n"
   ]
  },
  {
   "cell_type": "code",
   "execution_count": 2,
   "metadata": {},
   "outputs": [
    {
     "name": "stdout",
     "output_type": "stream",
     "text": [
      "The sum of 10 and 5 is 15\n",
      "Multiplication: 7.0\n",
      "Exponentiation: 12.25\n"
     ]
    }
   ],
   "source": [
    "# 2. 변수와 연산자\n",
    "a = 10\n",
    "b = 5\n",
    "sum_result = a + b\n",
    "print('The sum of', a, 'and', b, 'is', sum_result)\n",
    "\n",
    "x = 3.5\n",
    "y = 2\n",
    "print('Multiplication:', x * y)\n",
    "print('Exponentiation:', x ** y)\n"
   ]
  },
  {
   "cell_type": "code",
   "execution_count": 3,
   "metadata": {},
   "outputs": [
    {
     "name": "stdout",
     "output_type": "stream",
     "text": [
      "Hello, Alice!\n",
      "Hello, Bob!\n"
     ]
    }
   ],
   "source": [
    "# 3. 함수\n",
    "def greet(name):\n",
    "    return 'Hello, ' + name + '!'\n",
    "\n",
    "print(greet('Alice'))\n",
    "print(greet('Bob'))\n"
   ]
  },
  {
   "cell_type": "code",
   "execution_count": 4,
   "metadata": {},
   "outputs": [
    {
     "name": "stdout",
     "output_type": "stream",
     "text": [
      "Integer: 42\n",
      "Float: 3.14\n",
      "String: Python\n",
      "List: [1, 2, 3, 4]\n",
      "Tuple: (5, 6, 7, 8)\n",
      "Dictionary: {'name': 'Alice', 'age': 25}\n",
      "Set: {9, 10, 11, 12}\n",
      "Boolean: True\n",
      "Bytes: b'hello'\n"
     ]
    }
   ],
   "source": [
    "# 4. 자료형과 변수\n",
    "integer_var = 42        # 정수\n",
    "float_var = 3.14        # 실수\n",
    "string_var = 'Python'   # 문자열\n",
    "list_var = [1, 2, 3, 4] # 리스트\n",
    "tuple_var = (5, 6, 7, 8) # 튜플\n",
    "dict_var = {'name': 'Alice', 'age': 25} # 딕셔너리\n",
    "set_var = {9, 10, 11, 12} # 집합\n",
    "bool_var = True  # 불리언\n",
    "bytes_var = b'hello'  # 바이트\n",
    "\n",
    "print('Integer:', integer_var)\n",
    "print('Float:', float_var)\n",
    "print('String:', string_var)\n",
    "print('List:', list_var)\n",
    "print('Tuple:', tuple_var)\n",
    "print('Dictionary:', dict_var)\n",
    "print('Set:', set_var)\n",
    "print('Boolean:', bool_var)\n",
    "print('Bytes:', bytes_var)\n"
   ]
  },
  {
   "cell_type": "code",
   "execution_count": 5,
   "metadata": {},
   "outputs": [
    {
     "name": "stdout",
     "output_type": "stream",
     "text": [
      "Odd number\n",
      "Iteration: 1\n",
      "Iteration: 2\n",
      "Iteration: 3\n",
      "Iteration: 4\n",
      "Iteration: 5\n"
     ]
    }
   ],
   "source": [
    "# 5. 조건문, 반복문\n",
    "num = 7\n",
    "\n",
    "if num % 2 == 0:\n",
    "    print('Even number')\n",
    "else:\n",
    "    print('Odd number')\n",
    "\n",
    "for i in range(1, 6):\n",
    "    print('Iteration:', i)\n"
   ]
  },
  {
   "cell_type": "code",
   "execution_count": 6,
   "metadata": {},
   "outputs": [
    {
     "name": "stdout",
     "output_type": "stream",
     "text": [
      "Hi, my name is Charlie and I am 30 years old.\n"
     ]
    }
   ],
   "source": [
    "# 6. 클래스와 인스턴스\n",
    "class Person:\n",
    "    def __init__(self, name, age):\n",
    "        self.name = name\n",
    "        self.age = age\n",
    "\n",
    "    def introduce(self):\n",
    "        return 'Hi, my name is ' + self.name + ' and I am ' + str(self.age) + ' years old.'\n",
    "\n",
    "p1 = Person('Charlie', 30)\n",
    "print(p1.introduce())\n"
   ]
  },
  {
   "cell_type": "code",
   "execution_count": 7,
   "metadata": {},
   "outputs": [
    {
     "name": "stdout",
     "output_type": "stream",
     "text": [
      "Woof!\n"
     ]
    }
   ],
   "source": [
    "# 7. 객체지향 프로그래밍\n",
    "class Animal:\n",
    "    def make_sound(self):\n",
    "        return 'Some generic sound'\n",
    "\n",
    "class Dog(Animal):\n",
    "    def make_sound(self):\n",
    "        return 'Woof!'\n",
    "\n",
    "dog = Dog()\n",
    "print(dog.make_sound())\n"
   ]
  },
  {
   "cell_type": "code",
   "execution_count": 8,
   "metadata": {},
   "outputs": [
    {
     "name": "stdout",
     "output_type": "stream",
     "text": [
      "File Content: Hello, this is a test file.\n"
     ]
    }
   ],
   "source": [
    "# 8. 파일 입출력\n",
    "with open('sample.txt', 'w') as file:\n",
    "    file.write('Hello, this is a test file.')\n",
    "\n",
    "with open('sample.txt', 'r') as file:\n",
    "    content = file.read()\n",
    "\n",
    "print('File Content:', content)\n"
   ]
  },
  {
   "cell_type": "code",
   "execution_count": 9,
   "metadata": {},
   "outputs": [
    {
     "name": "stdout",
     "output_type": "stream",
     "text": [
      "Square root of 16: 4.0\n",
      "Pi value: 3.141592653589793\n"
     ]
    }
   ],
   "source": [
    "# 9. 모듈, 패키지 그리고 패키지 매니저\n",
    "import math\n",
    "\n",
    "print('Square root of 16:', math.sqrt(16))\n",
    "print('Pi value:', math.pi)\n"
   ]
  },
  {
   "cell_type": "code",
   "execution_count": 3,
   "metadata": {},
   "outputs": [
    {
     "name": "stdout",
     "output_type": "stream",
     "text": [
      "Error: division by zero\n"
     ]
    }
   ],
   "source": [
    "# 10. 에러와 에러 처리\n",
    "try:\n",
    "    result = 10 / 0\n",
    "except ZeroDivisionError as e:\n",
    "    print('Error:', str(e))\n"
   ]
  },
  {
   "cell_type": "code",
   "execution_count": 4,
   "metadata": {},
   "outputs": [
    {
     "name": "stdout",
     "output_type": "stream",
     "text": [
      "All tests passed!\n"
     ]
    }
   ],
   "source": [
    "# 11. 테스팅과 디버깅\n",
    "def add(a, b):\n",
    "    return a + b\n",
    "\n",
    "assert add(2, 3) == 5\n",
    "assert add(-1, 1) == 0\n",
    "\n",
    "print('All tests passed!')\n"
   ]
  }
 ],
 "metadata": {
  "kernelspec": {
   "display_name": "3.11.11",
   "language": "python",
   "name": "python3"
  },
  "language_info": {
   "codemirror_mode": {
    "name": "ipython",
    "version": 3
   },
   "file_extension": ".py",
   "mimetype": "text/x-python",
   "name": "python",
   "nbconvert_exporter": "python",
   "pygments_lexer": "ipython3",
   "version": "3.11.11"
  }
 },
 "nbformat": 4,
 "nbformat_minor": 2
}
