{
 "cells": [
  {
   "cell_type": "code",
   "execution_count": 1,
   "metadata": {},
   "outputs": [
    {
     "name": "stdout",
     "output_type": "stream",
     "text": [
      "Requirement already satisfied: opencv-python in /Users/chaejiseong/.pyenv/versions/3.11.11/lib/python3.11/site-packages (4.11.0.86)\n",
      "Requirement already satisfied: mediapipe in /Users/chaejiseong/.pyenv/versions/3.11.11/lib/python3.11/site-packages (0.10.21)\n",
      "Requirement already satisfied: pyautogui in /Users/chaejiseong/.pyenv/versions/3.11.11/lib/python3.11/site-packages (0.9.54)\n",
      "Requirement already satisfied: numpy>=1.21.2 in /Users/chaejiseong/.pyenv/versions/3.11.11/lib/python3.11/site-packages (from opencv-python) (1.26.4)\n",
      "Requirement already satisfied: absl-py in /Users/chaejiseong/.pyenv/versions/3.11.11/lib/python3.11/site-packages (from mediapipe) (2.1.0)\n",
      "Requirement already satisfied: attrs>=19.1.0 in /Users/chaejiseong/.pyenv/versions/3.11.11/lib/python3.11/site-packages (from mediapipe) (25.3.0)\n",
      "Requirement already satisfied: flatbuffers>=2.0 in /Users/chaejiseong/.pyenv/versions/3.11.11/lib/python3.11/site-packages (from mediapipe) (25.2.10)\n",
      "Requirement already satisfied: jax in /Users/chaejiseong/.pyenv/versions/3.11.11/lib/python3.11/site-packages (from mediapipe) (0.5.2)\n",
      "Requirement already satisfied: jaxlib in /Users/chaejiseong/.pyenv/versions/3.11.11/lib/python3.11/site-packages (from mediapipe) (0.5.1)\n",
      "Requirement already satisfied: matplotlib in /Users/chaejiseong/.pyenv/versions/3.11.11/lib/python3.11/site-packages (from mediapipe) (3.10.1)\n",
      "Requirement already satisfied: opencv-contrib-python in /Users/chaejiseong/.pyenv/versions/3.11.11/lib/python3.11/site-packages (from mediapipe) (4.11.0.86)\n",
      "Requirement already satisfied: protobuf<5,>=4.25.3 in /Users/chaejiseong/.pyenv/versions/3.11.11/lib/python3.11/site-packages (from mediapipe) (4.25.6)\n",
      "Requirement already satisfied: sounddevice>=0.4.4 in /Users/chaejiseong/.pyenv/versions/3.11.11/lib/python3.11/site-packages (from mediapipe) (0.5.1)\n",
      "Requirement already satisfied: sentencepiece in /Users/chaejiseong/.pyenv/versions/3.11.11/lib/python3.11/site-packages (from mediapipe) (0.2.0)\n",
      "Requirement already satisfied: pyobjc-core in /Users/chaejiseong/.pyenv/versions/3.11.11/lib/python3.11/site-packages (from pyautogui) (11.0)\n",
      "Requirement already satisfied: pyobjc-framework-quartz in /Users/chaejiseong/.pyenv/versions/3.11.11/lib/python3.11/site-packages (from pyautogui) (11.0)\n",
      "Requirement already satisfied: pymsgbox in /Users/chaejiseong/.pyenv/versions/3.11.11/lib/python3.11/site-packages (from pyautogui) (1.0.9)\n",
      "Requirement already satisfied: pytweening>=1.0.4 in /Users/chaejiseong/.pyenv/versions/3.11.11/lib/python3.11/site-packages (from pyautogui) (1.2.0)\n",
      "Requirement already satisfied: pyscreeze>=0.1.21 in /Users/chaejiseong/.pyenv/versions/3.11.11/lib/python3.11/site-packages (from pyautogui) (1.0.1)\n",
      "Requirement already satisfied: pygetwindow>=0.0.5 in /Users/chaejiseong/.pyenv/versions/3.11.11/lib/python3.11/site-packages (from pyautogui) (0.0.9)\n",
      "Requirement already satisfied: mouseinfo in /Users/chaejiseong/.pyenv/versions/3.11.11/lib/python3.11/site-packages (from pyautogui) (0.1.3)\n",
      "Requirement already satisfied: pyrect in /Users/chaejiseong/.pyenv/versions/3.11.11/lib/python3.11/site-packages (from pygetwindow>=0.0.5->pyautogui) (0.2.0)\n",
      "Requirement already satisfied: Pillow>=9.3.0 in /Users/chaejiseong/.pyenv/versions/3.11.11/lib/python3.11/site-packages (from pyscreeze>=0.1.21->pyautogui) (11.1.0)\n",
      "Requirement already satisfied: CFFI>=1.0 in /Users/chaejiseong/.pyenv/versions/3.11.11/lib/python3.11/site-packages (from sounddevice>=0.4.4->mediapipe) (1.17.1)\n",
      "Requirement already satisfied: ml_dtypes>=0.4.0 in /Users/chaejiseong/.pyenv/versions/3.11.11/lib/python3.11/site-packages (from jax->mediapipe) (0.5.1)\n",
      "Requirement already satisfied: opt_einsum in /Users/chaejiseong/.pyenv/versions/3.11.11/lib/python3.11/site-packages (from jax->mediapipe) (3.4.0)\n",
      "Requirement already satisfied: scipy>=1.11.1 in /Users/chaejiseong/.pyenv/versions/3.11.11/lib/python3.11/site-packages (from jax->mediapipe) (1.15.2)\n",
      "Requirement already satisfied: contourpy>=1.0.1 in /Users/chaejiseong/.pyenv/versions/3.11.11/lib/python3.11/site-packages (from matplotlib->mediapipe) (1.3.1)\n",
      "Requirement already satisfied: cycler>=0.10 in /Users/chaejiseong/.pyenv/versions/3.11.11/lib/python3.11/site-packages (from matplotlib->mediapipe) (0.12.1)\n",
      "Requirement already satisfied: fonttools>=4.22.0 in /Users/chaejiseong/.pyenv/versions/3.11.11/lib/python3.11/site-packages (from matplotlib->mediapipe) (4.56.0)\n",
      "Requirement already satisfied: kiwisolver>=1.3.1 in /Users/chaejiseong/.pyenv/versions/3.11.11/lib/python3.11/site-packages (from matplotlib->mediapipe) (1.4.8)\n",
      "Requirement already satisfied: packaging>=20.0 in /Users/chaejiseong/.pyenv/versions/3.11.11/lib/python3.11/site-packages (from matplotlib->mediapipe) (24.2)\n",
      "Requirement already satisfied: pyparsing>=2.3.1 in /Users/chaejiseong/.pyenv/versions/3.11.11/lib/python3.11/site-packages (from matplotlib->mediapipe) (3.2.1)\n",
      "Requirement already satisfied: python-dateutil>=2.7 in /Users/chaejiseong/.pyenv/versions/3.11.11/lib/python3.11/site-packages (from matplotlib->mediapipe) (2.9.0.post0)\n",
      "Requirement already satisfied: rubicon-objc in /Users/chaejiseong/.pyenv/versions/3.11.11/lib/python3.11/site-packages (from mouseinfo->pyautogui) (0.5.0)\n",
      "Requirement already satisfied: pyperclip in /Users/chaejiseong/.pyenv/versions/3.11.11/lib/python3.11/site-packages (from mouseinfo->pyautogui) (1.9.0)\n",
      "Requirement already satisfied: pyobjc-framework-Cocoa>=11.0 in /Users/chaejiseong/.pyenv/versions/3.11.11/lib/python3.11/site-packages (from pyobjc-framework-quartz->pyautogui) (11.0)\n",
      "Requirement already satisfied: pycparser in /Users/chaejiseong/.pyenv/versions/3.11.11/lib/python3.11/site-packages (from CFFI>=1.0->sounddevice>=0.4.4->mediapipe) (2.22)\n",
      "Requirement already satisfied: six>=1.5 in /Users/chaejiseong/.pyenv/versions/3.11.11/lib/python3.11/site-packages (from python-dateutil>=2.7->matplotlib->mediapipe) (1.17.0)\n",
      "\n",
      "\u001b[1m[\u001b[0m\u001b[34;49mnotice\u001b[0m\u001b[1;39;49m]\u001b[0m\u001b[39;49m A new release of pip is available: \u001b[0m\u001b[31;49m24.0\u001b[0m\u001b[39;49m -> \u001b[0m\u001b[32;49m25.0.1\u001b[0m\n",
      "\u001b[1m[\u001b[0m\u001b[34;49mnotice\u001b[0m\u001b[1;39;49m]\u001b[0m\u001b[39;49m To update, run: \u001b[0m\u001b[32;49mpip install --upgrade pip\u001b[0m\n"
     ]
    }
   ],
   "source": [
    "# %% [1] 필요한 라이브러리 설치\n",
    "!pip install opencv-python mediapipe pyautogui"
   ]
  },
  {
   "cell_type": "code",
   "execution_count": 2,
   "metadata": {},
   "outputs": [],
   "source": [
    "# %% [2] 모듈 임포트\n",
    "import cv2\n",
    "import mediapipe as mp\n",
    "import pyautogui"
   ]
  },
  {
   "cell_type": "code",
   "execution_count": null,
   "metadata": {},
   "outputs": [
    {
     "name": "stderr",
     "output_type": "stream",
     "text": [
      "I0000 00:00:1742389473.832353  219947 gl_context.cc:369] GL version: 2.1 (2.1 Metal - 89.3), renderer: Apple M2 Pro\n",
      "W0000 00:00:1742389473.845837  221477 inference_feedback_manager.cc:114] Feedback manager requires a model with a single signature inference. Disabling support for feedback tensors.\n",
      "W0000 00:00:1742389473.857144  221477 inference_feedback_manager.cc:114] Feedback manager requires a model with a single signature inference. Disabling support for feedback tensors.\n"
     ]
    },
    {
     "ename": "KeyboardInterrupt",
     "evalue": "",
     "output_type": "error",
     "traceback": [
      "\u001b[31m---------------------------------------------------------------------------\u001b[39m",
      "\u001b[31mKeyboardInterrupt\u001b[39m                         Traceback (most recent call last)",
      "\u001b[36mCell\u001b[39m\u001b[36m \u001b[39m\u001b[32mIn[4]\u001b[39m\u001b[32m, line 17\u001b[39m\n\u001b[32m     15\u001b[39m frame = cv2.flip(frame, \u001b[32m1\u001b[39m)\n\u001b[32m     16\u001b[39m rgb_frame = cv2.cvtColor(frame, cv2.COLOR_BGR2RGB)\n\u001b[32m---> \u001b[39m\u001b[32m17\u001b[39m result = \u001b[43mhands\u001b[49m\u001b[43m.\u001b[49m\u001b[43mprocess\u001b[49m\u001b[43m(\u001b[49m\u001b[43mrgb_frame\u001b[49m\u001b[43m)\u001b[49m\n\u001b[32m     19\u001b[39m \u001b[38;5;28;01mif\u001b[39;00m result.multi_hand_landmarks:\n\u001b[32m     20\u001b[39m     \u001b[38;5;28;01mfor\u001b[39;00m hand_landmarks \u001b[38;5;129;01min\u001b[39;00m result.multi_hand_landmarks:\n",
      "\u001b[36mFile \u001b[39m\u001b[32m~/.pyenv/versions/3.11.11/lib/python3.11/site-packages/mediapipe/python/solutions/hands.py:153\u001b[39m, in \u001b[36mHands.process\u001b[39m\u001b[34m(self, image)\u001b[39m\n\u001b[32m    132\u001b[39m \u001b[38;5;28;01mdef\u001b[39;00m\u001b[38;5;250m \u001b[39m\u001b[34mprocess\u001b[39m(\u001b[38;5;28mself\u001b[39m, image: np.ndarray) -> NamedTuple:\n\u001b[32m    133\u001b[39m \u001b[38;5;250m  \u001b[39m\u001b[33;03m\"\"\"Processes an RGB image and returns the hand landmarks and handedness of each detected hand.\u001b[39;00m\n\u001b[32m    134\u001b[39m \n\u001b[32m    135\u001b[39m \u001b[33;03m  Args:\u001b[39;00m\n\u001b[32m   (...)\u001b[39m\u001b[32m    150\u001b[39m \u001b[33;03m         right hand) of the detected hand.\u001b[39;00m\n\u001b[32m    151\u001b[39m \u001b[33;03m  \"\"\"\u001b[39;00m\n\u001b[32m--> \u001b[39m\u001b[32m153\u001b[39m   \u001b[38;5;28;01mreturn\u001b[39;00m \u001b[38;5;28;43msuper\u001b[39;49m\u001b[43m(\u001b[49m\u001b[43m)\u001b[49m\u001b[43m.\u001b[49m\u001b[43mprocess\u001b[49m\u001b[43m(\u001b[49m\u001b[43minput_data\u001b[49m\u001b[43m=\u001b[49m\u001b[43m{\u001b[49m\u001b[33;43m'\u001b[39;49m\u001b[33;43mimage\u001b[39;49m\u001b[33;43m'\u001b[39;49m\u001b[43m:\u001b[49m\u001b[43m \u001b[49m\u001b[43mimage\u001b[49m\u001b[43m}\u001b[49m\u001b[43m)\u001b[49m\n",
      "\u001b[36mFile \u001b[39m\u001b[32m~/.pyenv/versions/3.11.11/lib/python3.11/site-packages/mediapipe/python/solution_base.py:340\u001b[39m, in \u001b[36mSolutionBase.process\u001b[39m\u001b[34m(self, input_data)\u001b[39m\n\u001b[32m    334\u001b[39m   \u001b[38;5;28;01melse\u001b[39;00m:\n\u001b[32m    335\u001b[39m     \u001b[38;5;28mself\u001b[39m._graph.add_packet_to_input_stream(\n\u001b[32m    336\u001b[39m         stream=stream_name,\n\u001b[32m    337\u001b[39m         packet=\u001b[38;5;28mself\u001b[39m._make_packet(input_stream_type,\n\u001b[32m    338\u001b[39m                                  data).at(\u001b[38;5;28mself\u001b[39m._simulated_timestamp))\n\u001b[32m--> \u001b[39m\u001b[32m340\u001b[39m \u001b[38;5;28;43mself\u001b[39;49m\u001b[43m.\u001b[49m\u001b[43m_graph\u001b[49m\u001b[43m.\u001b[49m\u001b[43mwait_until_idle\u001b[49m\u001b[43m(\u001b[49m\u001b[43m)\u001b[49m\n\u001b[32m    341\u001b[39m \u001b[38;5;66;03m# Create a NamedTuple object where the field names are mapping to the graph\u001b[39;00m\n\u001b[32m    342\u001b[39m \u001b[38;5;66;03m# output stream names.\u001b[39;00m\n\u001b[32m    343\u001b[39m \u001b[38;5;28;01mif\u001b[39;00m \u001b[38;5;28mself\u001b[39m._output_stream_type_info \u001b[38;5;129;01mis\u001b[39;00m \u001b[38;5;28;01mNone\u001b[39;00m:\n",
      "\u001b[31mKeyboardInterrupt\u001b[39m: "
     ]
    },
    {
     "ename": "",
     "evalue": "",
     "output_type": "error",
     "traceback": [
      "\u001b[1;31mThe Kernel crashed while executing code in the current cell or a previous cell. \n",
      "\u001b[1;31mPlease review the code in the cell(s) to identify a possible cause of the failure. \n",
      "\u001b[1;31mClick <a href='https://aka.ms/vscodeJupyterKernelCrash'>here</a> for more info. \n",
      "\u001b[1;31mView Jupyter <a href='command:jupyter.viewOutput'>log</a> for further details."
     ]
    }
   ],
   "source": [
    "# 손 감지 모델 초기화\n",
    "mp_hands = mp.solutions.hands\n",
    "mp_draw = mp.solutions.drawing_utils\n",
    "hands = mp_hands.Hands(max_num_hands=1, min_detection_confidence=0.7)\n",
    "screen_width, screen_height = pyautogui.size()\n",
    "\n",
    "# %% [3] 실시간 손 추적 및 마우스 제스처 기능\n",
    "cap = cv2.VideoCapture(0)\n",
    "\n",
    "while cap.isOpened():\n",
    "    ret, frame = cap.read()\n",
    "    if not ret:\n",
    "        break\n",
    "\n",
    "    frame = cv2.flip(frame, 1)\n",
    "    rgb_frame = cv2.cvtColor(frame, cv2.COLOR_BGR2RGB)\n",
    "    result = hands.process(rgb_frame)\n",
    "\n",
    "    if result.multi_hand_landmarks:\n",
    "        for hand_landmarks in result.multi_hand_landmarks:\n",
    "            mp_draw.draw_landmarks(frame, hand_landmarks, mp_hands.HAND_CONNECTIONS)\n",
    "\n",
    "            index_finger = hand_landmarks.landmark[mp_hands.HandLandmark.INDEX_FINGER_TIP]\n",
    "            x = int(index_finger.x * screen_width)\n",
    "            y = int(index_finger.y * screen_height)\n",
    "\n",
    "            pyautogui.moveTo(x, y, duration=0.1)\n",
    "\n",
    "    cv2.imshow(\"Hand Tracking Mouse\", frame)\n",
    "    if cv2.waitKey(1) & 0xFF == ord('q'):\n",
    "        break\n",
    "\n",
    "cap.release()\n",
    "cv2.destroyAllWindows()"
   ]
  }
 ],
 "metadata": {
  "kernelspec": {
   "display_name": "3.11.11",
   "language": "python",
   "name": "python3"
  },
  "language_info": {
   "codemirror_mode": {
    "name": "ipython",
    "version": 3
   },
   "file_extension": ".py",
   "mimetype": "text/x-python",
   "name": "python",
   "nbconvert_exporter": "python",
   "pygments_lexer": "ipython3",
   "version": "3.11.11"
  }
 },
 "nbformat": 4,
 "nbformat_minor": 2
}
