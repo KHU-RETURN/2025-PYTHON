{
 "cells": [
  {
   "cell_type": "markdown",
   "metadata": {},
   "source": [
    "# 실습문제 1\n",
    "사용자로부터 두 개의 숫자를 입력받은 후 덧셈, 뺄셈, 곱셈, 나눗셈,  나머지, 거듭제곱, 첫 번째 숫자가 두 번째 숫자보다 더 큰지 참거짓까지 총 8가지의 값을 출력하시오\n",
    "\n",
    "# 예시 실행\n",
    "첫 번째 숫자를 입력하세요: 15  \n",
    "두 번째 숫자를 입력하세요: 4  \n",
    "덧셈 결과: 19.0  \n",
    "뺄셈 결과: 11.0  \n",
    "곱셈 결과: 60.0  \n",
    "나눗셈 결과: 3.75  \n",
    "몫 결과: 3.0  \n",
    "나머지 결과: 3.0  \n",
    "거듭제곱 결과: 50625.0  \n"
   ]
  },
  {
   "cell_type": "code",
   "execution_count": 1,
   "metadata": {},
   "outputs": [
    {
     "name": "stdout",
     "output_type": "stream",
     "text": [
      "덧셈 결과: 19\n",
      "뺄셈 결과: 11\n",
      "곱셈 결과: 60\n",
      "나눗셈 결과: 3.75\n",
      "몫 결과: 3\n",
      "나머지 결과: 3\n",
      "거듭제곱 결과: 50625\n",
      "첫 번째 숫자가 두 번째 숫자보다 큰가? True\n"
     ]
    }
   ],
   "source": [
    "num1 = int(input('첫 번째 숫자를 입력하세요: '))\n",
    "num2 = int(input('두 번째 숫자를 입력하세요: '))\n",
    "\n",
    "print('덧셈 결과:', num1 + num2)\n",
    "print('뺄셈 결과:', num1 - num2)\n",
    "print(\"곱셈 결과:\", num1 * num2)\n",
    "print('나눗셈 결과:', num1 / num2)\n",
    "print('몫 결과:', num1 // num2)\n",
    "print('나머지 결과:', num1 % num2)\n",
    "print('거듭제곱 결과:', num1 ** num2)\n",
    "print('첫 번째 숫자가 두 번째 숫자보다 큰가?', num1 > num2)"
   ]
  },
  {
   "cell_type": "markdown",
   "metadata": {},
   "source": [
    "# 실습문제 2\n",
    "학생의 점수를 입력받아 0부터 100 사이의 값인지 검증한 후, 60점 이상이면 '합격', 미만이면 '불합격'을 출력하는 프로그램을 작성하시오\n",
    "\n",
    "## 심화 버전\n",
    "- 이 문제가 쉬운 학생은 이 문제를 삼항 연산자를 사용해 한 줄로 풀어보세요\n",
    "\n",
    "\n",
    "### 예시 실행\n",
    "case1\n",
    "점수를 입력하세요: 85\n",
    "결과: 합격\n",
    "\n",
    "case2\n",
    "점수를 입력하세요: 55\n",
    "결과: 불합격\n",
    "\n",
    "case3\n",
    "점수를 입력하세요: 120\n",
    "결과: 잘못된 점수\n"
   ]
  },
  {
   "cell_type": "code",
   "execution_count": 4,
   "metadata": {},
   "outputs": [
    {
     "name": "stdout",
     "output_type": "stream",
     "text": [
      "결과:  잘못된 점수\n"
     ]
    }
   ],
   "source": [
    "score = int(input('점수를 입력하세요: '))\n",
    "\n",
    "# 이 부분을 채우세요\n",
    "if 0 <= score <= 100:\n",
    "    if score >= 60:\n",
    "        result = '합격'\n",
    "\n",
    "    else:\n",
    "        result = '불합격'\n",
    "else:\n",
    "    result = '잘못된 점수'\n",
    "\n",
    "# \n",
    "\n",
    "print('결과: ', result)\n"
   ]
  },
  {
   "cell_type": "code",
   "execution_count": 7,
   "metadata": {},
   "outputs": [
    {
     "name": "stdout",
     "output_type": "stream",
     "text": [
      "결과: 잘못된 점수\n"
     ]
    }
   ],
   "source": [
    "score = int(input('점수를 입력하세요: '))\n",
    "print('결과:', '합격' if 0<=score<=100 and score >= 60 else '불합격' if 0 <= score <= 100 else '잘못된 점수')"
   ]
  }
 ],
 "metadata": {
  "kernelspec": {
   "display_name": "3.11.11",
   "language": "python",
   "name": "python3"
  },
  "language_info": {
   "codemirror_mode": {
    "name": "ipython",
    "version": 3
   },
   "file_extension": ".py",
   "mimetype": "text/x-python",
   "name": "python",
   "nbconvert_exporter": "python",
   "pygments_lexer": "ipython3",
   "version": "3.11.11"
  }
 },
 "nbformat": 4,
 "nbformat_minor": 2
}
