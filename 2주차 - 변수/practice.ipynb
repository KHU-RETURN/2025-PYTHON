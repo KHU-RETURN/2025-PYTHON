{
 "cells": [
  {
   "cell_type": "markdown",
   "metadata": {},
   "source": [
    "# 실습문제 1\n",
    "사용자로부터 두 개의 숫자를 입력받은 후 덧셈, 뺄셈, 곱셈, 나눗셈, 몫, 나머지, 거듭제곱, 첫 번째 숫자가 두 번째 숫자보다 더 큰지 참거짓까지 총 8가지의 값을 출력하시오\n",
    "\n",
    "# 예시 실행\n",
    "첫 번째 숫자를 입력하세요: 15  \n",
    "두 번째 숫자를 입력하세요: 4  \n",
    "덧셈 결과: 19.0  \n",
    "뺄셈 결과: 11.0  \n",
    "곱셈 결과: 60.0  \n",
    "나눗셈 결과: 3.75  \n",
    "몫 결과: 3.0  \n",
    "나머지 결과: 3.0  \n",
    "거듭제곱 결과: 50625.0  \n"
   ]
  },
  {
   "cell_type": "code",
   "execution_count": null,
   "metadata": {},
   "outputs": [],
   "source": [
    "# 예시: num1 = int(input('첫 번째 숫자를 입력하세요: '))\n",
    "# 두 번째 줄 부터는 풀어 보세요\n",
    "\n",
    "\n"
   ]
  },
  {
   "cell_type": "markdown",
   "metadata": {},
   "source": [
    "# 실습문제 2\n",
    "학생의 점수를 입력받아 0부터 100 사이의 값인지 검증한 후, 60점 이상이면 '합격', 미만이면 '불합격'을 출력하는 프로그램을 작성하시오\n",
    "\n",
    "## 심화 버전\n",
    "- 이 문제가 쉬운 학생은 이 문제를 삼항 연산자를 사용해 한 줄로 풀어보세요\n",
    "\n",
    "\n",
    "### 예시 실행\n",
    "case1\n",
    "점수를 입력하세요: 85\n",
    "결과: 합격\n",
    "\n",
    "case2\n",
    "점수를 입력하세요: 55\n",
    "결과: 불합격\n",
    "\n",
    "case3\n",
    "점수를 입력하세요: 120\n",
    "결과: 잘못된 점수\n"
   ]
  },
  {
   "cell_type": "code",
   "execution_count": null,
   "metadata": {},
   "outputs": [],
   "source": [
    "score = int(input('점수를 입력하세요: '))\n",
    "\n",
    "# 이 부분을 채우세요\n",
    "\n",
    "\n",
    "# \n",
    "\n",
    "print('결과: ', result)\n"
   ]
  }
 ],
 "metadata": {
  "kernelspec": {
   "display_name": "3.11.11",
   "language": "python",
   "name": "python3"
  },
  "language_info": {
   "name": "python",
   "version": "3.11.11"
  }
 },
 "nbformat": 4,
 "nbformat_minor": 2
}
