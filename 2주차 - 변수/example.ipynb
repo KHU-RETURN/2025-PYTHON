{
 "cells": [
  {
   "cell_type": "markdown",
   "metadata": {},
   "source": [
    "## 예시 1: 변수의 할당과 조회\n",
    "- 할당 연산자 `=`를 통해 특정 이름의 변수에 값을 넣음(할당)\n",
    "- 값을 넣은 이후에는 그 변수의 이름으로 들어있는 값에 접근이 가능(조회)"
   ]
  },
  {
   "cell_type": "code",
   "execution_count": null,
   "metadata": {},
   "outputs": [],
   "source": [
    "# 변수의 할당\n",
    "A = 10"
   ]
  },
  {
   "cell_type": "code",
   "execution_count": null,
   "metadata": {},
   "outputs": [],
   "source": [
    "# 변수의 조회\n",
    "print(A)"
   ]
  },
  {
   "cell_type": "markdown",
   "metadata": {},
   "source": [
    "## 예시 2: 변수를 사용하는 이유\n",
    "1. 가독성\n",
    "2. 재사용성\n",
    "3. 유지보수성\n",
    "\n",
    "### 1. 가독성\n",
    "복잡한 값을 직접 사용하지 않고 우리가 알아보기 쉬운 변수명을 붙여 값들을 자유롭게 사용할 수 있습니다."
   ]
  },
  {
   "cell_type": "code",
   "execution_count": 1,
   "metadata": {},
   "outputs": [
    {
     "name": "stdout",
     "output_type": "stream",
     "text": [
      "78.5\n"
     ]
    }
   ],
   "source": [
    "# 변수 없이 사용\n",
    "print(3.14 * 5 * 5)"
   ]
  },
  {
   "cell_type": "code",
   "execution_count": 2,
   "metadata": {},
   "outputs": [
    {
     "name": "stdout",
     "output_type": "stream",
     "text": [
      "78.5\n"
     ]
    }
   ],
   "source": [
    "# 변수 사용\n",
    "PI = 3.14\n",
    "radius = 5\n",
    "\n",
    "print(PI * radius * radius)"
   ]
  },
  {
   "cell_type": "markdown",
   "metadata": {},
   "source": [
    "### 2. 재사용성\n",
    "\n",
    "변수를 통해 값을 관리하면, 매번 값을 적어줘야 하는 것이 아닌, 변수에 한번만 넣어두고 이를 불러와서 사용하면 됩니다."
   ]
  },
  {
   "cell_type": "code",
   "execution_count": 6,
   "metadata": {},
   "outputs": [
    {
     "name": "stdout",
     "output_type": "stream",
     "text": [
      "113.03999999999999\n",
      "37.68\n"
     ]
    }
   ],
   "source": [
    "# 변수 없이 작성\n",
    "print(3.14 * 6 * 6)  # 원의 넓이\n",
    "print(2 * 3.14 * 6)  # 원의 둘레"
   ]
  },
  {
   "cell_type": "code",
   "execution_count": 5,
   "metadata": {},
   "outputs": [
    {
     "name": "stdout",
     "output_type": "stream",
     "text": [
      "113.03999999999999\n",
      "37.68\n"
     ]
    }
   ],
   "source": [
    "# 변수 사용\n",
    "radius = 6\n",
    "pi = 3.14\n",
    "print(pi * radius * radius) # 원의 넓이\n",
    "print(2 * pi * radius) # 원의 둘레"
   ]
  },
  {
   "cell_type": "markdown",
   "metadata": {},
   "source": [
    "### 3. 유지보수성\n",
    "\n",
    "변수를 통해 값을 관리하면 매번 값을 수정하지 않고도 값을 바꾸는 것이 가능합니다."
   ]
  },
  {
   "cell_type": "code",
   "execution_count": 7,
   "metadata": {},
   "outputs": [
    {
     "name": "stdout",
     "output_type": "stream",
     "text": [
      "78.5\n",
      "31.400000000000002\n",
      "200.96\n",
      "50.24\n"
     ]
    }
   ],
   "source": [
    "# 변수 없이 작성\n",
    "print(3.14 * 5 * 5)  # 원의 넓이\n",
    "print(2 * 3.14 * 5)  # 원의 둘레\n",
    "\n",
    "# 원의 반지름이 8로 바뀐 후\n",
    "print(3.14 * 8 * 8)  # 바뀐 원의 넓이\n",
    "print(2 * 3.14 * 8)  # 바뀐 원의 둘레"
   ]
  },
  {
   "cell_type": "code",
   "execution_count": null,
   "metadata": {},
   "outputs": [
    {
     "name": "stdout",
     "output_type": "stream",
     "text": [
      "200.96\n",
      "50.24\n",
      "200.96\n",
      "50.24\n"
     ]
    }
   ],
   "source": [
    "# 변수 사용\n",
    "radius = 5\n",
    "pi = 3.14\n",
    "print(pi * radius * radius) # 원의 넓이\n",
    "print(2 * pi * radius) # 원의 둘레\n",
    "\n",
    "\n",
    "# 원의 반지름이 8로 바뀐 후\n",
    "radius = 8\n",
    "print(pi * radius * radius) # 원의 넓이\n",
    "print(2 * pi * radius) # 원의 둘레"
   ]
  },
  {
   "cell_type": "markdown",
   "metadata": {},
   "source": [
    "## 예시 3: 자로형이란?\n",
    "### 자료형이란?\n",
    "\n",
    "- 변수가 실제 프로그램에서 사용되기 위해서는 각 변수에 어떤 값이 들어있는지 컴퓨터가 알아야 함\n",
    "- **값이 어떤 종류인지에 따라 차지하는 메모리의 크기, 값을 저장하는 방식, 계산하는 방식이 다르기 때문**\n",
    "\n",
    "⇒ 이런 값의 종류를 자료형(또는 데이터 타입, 타입)이라고 함\n",
    "\n",
    "아래 코드를 보면 정수와 문자열이 차지하는 메모리의 크기가 다름을 알 수 있음\n",
    "- getsizeof: 변수의 메모리 사용량을 알 수 있는 함수\n",
    "- type: 변수의 자료형을 알 수 있는 함수"
   ]
  },
  {
   "cell_type": "code",
   "execution_count": 9,
   "metadata": {},
   "outputs": [
    {
     "name": "stdout",
     "output_type": "stream",
     "text": [
      "<class 'int'>\n",
      "28\n",
      "<class 'str'>\n",
      "50\n"
     ]
    }
   ],
   "source": [
    "from sys import getsizeof\n",
    "\n",
    "var_integer = 1\n",
    "print(type(var_integer))\n",
    "print(getsizeof(var_integer))\n",
    "\n",
    "var_string = '1'\n",
    "print(type(var_string))\n",
    "print(getsizeof(var_string))"
   ]
  },
  {
   "cell_type": "markdown",
   "metadata": {},
   "source": [
    "## 예시 4: 자료형의 종류\n",
    "\n",
    "- 파이썬의 기초적인 자료형은 아래와 같음\n",
    "1. `int` : 정수형, 소수점이 없는 정수형을 담는 자료형, 양수, 음수, 0을 포함\n",
    "2. `float` : 실수형, 소수점을 포함한 숫자, 3.14, 1.0 등을 포함\n",
    "3. `str` : 문자열, 문자들의 집합, `“` 또는 `‘` , ``` 로 감싸서 표현\n",
    "4. `bool` : 참(True)과 거짓(False)을 나타내는 자료형, 주로 조건문에서 쓰임\n",
    "5. `NoneType` : 아무것도 없음을 나타내는 자료형, 0과 False와는 다름, `None` 값 만이 존재\n",
    "6. `complex` : 복소수형 실수 부분과 허수 부분이로 이뤄진 수, 2 + 3j 등이 있음(j가 허수 부분)\n",
    "7. `tuple` : 튜플, 여러 값을 순서대로 묶어놓은 자료형, 한번 만들면 수정 불가\n",
    "    - ex) person = (’alice’, 25, ‘student’)\n",
    "8. `list` : 리스트, 여러 값을 순서대로 묶어놓은 자료형, 각기 다른 종류의 요소들을 포함 가능\n",
    "    - 요소 ⇒ 리스트 내부의 값, 리스트는 서로 다른 종류의 요소들을 포함 가능(리스트 안의 리스트도 가능)\n",
    "    - fruits = [\"apple\", \"banana\", \"cherry\"], matrix = [[1, 2, 3], [2, 3, 4]]\n",
    "9. `dict` : 딕셔너리, 키-값의 쌍으로 데이터를 저장하는 자료형, 각 키는 고유하고, 키를 통해 그 값을 검색\n",
    "    - persion = {’name’: ‘alice’, ‘age’: 25, ‘city’: ‘seoul’}"
   ]
  },
  {
   "cell_type": "code",
   "execution_count": 11,
   "metadata": {},
   "outputs": [
    {
     "name": "stdout",
     "output_type": "stream",
     "text": [
      "\n",
      "Alice\n",
      "Integer type: <class 'int'>\n",
      "Float type: <class 'float'>\n",
      "String type: <class 'str'>\n",
      "Boolean type: <class 'bool'>\n",
      "NoneType type: <class 'NoneType'>\n",
      "Complex type: <class 'complex'>\n",
      "Tuple type: <class 'tuple'>\n",
      "List type: <class 'list'>\n",
      "Dict type: <class 'dict'>\n",
      "Function type: <class 'function'>\n"
     ]
    }
   ],
   "source": [
    "# 1. int (정수형)\n",
    "integer_value = 10\n",
    "\n",
    "# 2. float (실수형)\n",
    "float_value = 3.14\n",
    "\n",
    "# 3. str (문자열형)\n",
    "string_value = \"Hello, Python!\"\n",
    "str1 = 'hi'\n",
    "\n",
    "# 4. bool (불린형)\n",
    "boolean_value = True\n",
    "bool1 = False\n",
    "\n",
    "# 5. NoneType (None)\n",
    "none_value = None\n",
    "\n",
    "# 6. complex (복소수형)\n",
    "complex_value = 2 + 3j\n",
    "\n",
    "# 7. tuple (튜플형)\n",
    "tuple_value = (1, 2, 3)\n",
    "\n",
    "# 8. list (리스트형)\n",
    "list_value = [10, 20, 30, 40]\n",
    "\n",
    "# 9. dict (딕셔너리형)\n",
    "dict_value = {\"name\": \"Alice\", \"age\": 25}\n",
    "print()\n",
    "print(dict_value['name'])\n",
    "\n",
    "# 10. function (함수형)\n",
    "def greet(name):\n",
    "    return f\"Hello, {name}!\"\n",
    "\n",
    "# 출력\n",
    "print(f\"Integer type: {type(integer_value)}\")\n",
    "print(f\"Float type: {type(float_value)}\")\n",
    "print(f\"String type: {type(string_value)}\")\n",
    "print(f\"Boolean type: {type(boolean_value)}\")\n",
    "print(f\"NoneType type: {type(none_value)}\")\n",
    "print(f\"Complex type: {type(complex_value)}\")\n",
    "print(f\"Tuple type: {type(tuple_value)}\")\n",
    "print(f\"List type: {type(list_value)}\")\n",
    "print(f\"Dict type: {type(dict_value)}\")\n",
    "print(f\"Function type: {type(greet)}\")\n"
   ]
  },
  {
   "cell_type": "code",
   "execution_count": 18,
   "metadata": {},
   "outputs": [
    {
     "ename": "ValueError",
     "evalue": "invalid literal for int() with base 10: 'hi'",
     "output_type": "error",
     "traceback": [
      "\u001b[31m---------------------------------------------------------------------------\u001b[39m",
      "\u001b[31mValueError\u001b[39m                                Traceback (most recent call last)",
      "\u001b[36mCell\u001b[39m\u001b[36m \u001b[39m\u001b[32mIn[18]\u001b[39m\u001b[32m, line 3\u001b[39m\n\u001b[32m      1\u001b[39m str1 = \u001b[33m'\u001b[39m\u001b[33mhi\u001b[39m\u001b[33m'\u001b[39m\n\u001b[32m----> \u001b[39m\u001b[32m3\u001b[39m \u001b[38;5;28mprint\u001b[39m(\u001b[38;5;28;43mint\u001b[39;49m\u001b[43m(\u001b[49m\u001b[43mstr1\u001b[49m\u001b[43m)\u001b[49m)\n",
      "\u001b[31mValueError\u001b[39m: invalid literal for int() with base 10: 'hi'"
     ]
    }
   ],
   "source": [
    "str1 = 'hi'\n",
    "\n",
    "print(int(str1))\n"
   ]
  },
  {
   "cell_type": "markdown",
   "metadata": {},
   "source": [
    "## 예시 5: 연산자란?\n",
    "\n",
    "연산자는 값, 또는 값을 담고 있는 변수에 대해 “연산”을 수행하는 특수기호를 말합니다. \n",
    "\n",
    "연산을 하기 위한 기호를 연산자, 연산의 대상이 되는 값 또는 변수는 피연산자라고 부릅니다.\n",
    "\n",
    "각 자료형에 따라 가능한 연산과 불가능한 연산이 있습니다. 또한 같은 연산자가 피연산자의 자료형에 따라 다르게 동작하기도 합니다.\n",
    "\n",
    "## **파이썬 연산자의 종류**\n",
    "\n",
    "파이썬의 연산자에는 크게 8가지 종류가 있습니다. 그러나 이번 시간에는 이 중 일부만 다룰 계획입니다. 다른 것들은 실습 자료와 함께 제공해드리도록 하겠습니다.\n",
    "\n",
    "1. **산술 연산자 (Arithmetic Operators)**\n",
    "2. **비교 연산자 (Comparison Operators)**\n",
    "3. **논리 연산자 (Logical Operators)**\n",
    "4. **비트 연산자 (Bitwise Operators)**\n",
    "5. **할당 연산자 (Assignment Operators)**\n",
    "6. **식별 연산자 (Identity Operators)**\n",
    "7. **멤버십 연산자 (Membership Operators)**\n",
    "8. **삼항 연산자(Ternary Operator)**\n",
    "\n",
    "---\n",
    "\n",
    "## **1. 산술 연산자 (Arithmetic Operators)**\n",
    "\n",
    "산술 연산자는 **덧셈, 뺄셈, 곱셈, 나눗셈** 등의 기본적인 수학적 연산을 수행하는 연산자입니다."
   ]
  },
  {
   "cell_type": "code",
   "execution_count": null,
   "metadata": {},
   "outputs": [],
   "source": [
    "# 변수 선언\n",
    "a = 15\n",
    "b = 4\n",
    "\n",
    "# 연산 수행\n",
    "print(\"덧셈:\", a + b)\n",
    "print(\"뺄셈:\", a - b)\n",
    "print(\"곱셈:\", a * b)\n",
    "print(\"나눗셈:\", a / b)\n",
    "print(\"몫 연산:\", a // b)\n",
    "print(\"나머지 연산:\", a % b)\n",
    "print(\"거듭제곱:\", a ** b)\n"
   ]
  },
  {
   "cell_type": "markdown",
   "metadata": {},
   "source": [
    "## **2. 비교 연산자 (Comparison Operators)**\n",
    "\n",
    "비교 연산자는 **두 개의 값을 비교하여 `True` 또는 `False`를 반환**하는 연산자입니다."
   ]
  },
  {
   "cell_type": "code",
   "execution_count": null,
   "metadata": {},
   "outputs": [],
   "source": [
    "a = 13\n",
    "b = 33\n",
    "\n",
    "print(a > b)   # False\n",
    "print(a < b)   # True\n",
    "print(a == b)  # False\n",
    "print(a != b)  # True\n",
    "print(a >= b)  # False\n",
    "print(a <= b)  # True\n"
   ]
  },
  {
   "cell_type": "markdown",
   "metadata": {},
   "source": [
    "## **3. 논리 연산자 (Logical Operators)**\n",
    "\n",
    "논리 연산자는 **AND, OR, NOT** 연산을 수행하여 조건을 결합할 때 사용됩니다."
   ]
  },
  {
   "cell_type": "code",
   "execution_count": null,
   "metadata": {},
   "outputs": [],
   "source": [
    "a = True\n",
    "b = False\n",
    "\n",
    "print(a and b)  # False\n",
    "print(a or b)   # True\n",
    "print(not a)    # False\n"
   ]
  },
  {
   "cell_type": "markdown",
   "metadata": {},
   "source": [
    "## **4. 할당 연산자 (Assignment Operators)**\n",
    "\n",
    "할당 연산자는 **변수에 값을 저장할 때 사용**됩니다."
   ]
  },
  {
   "cell_type": "code",
   "execution_count": null,
   "metadata": {},
   "outputs": [],
   "source": [
    "a = 10\n",
    "b = a\n",
    "print(b)  # 10\n",
    "\n",
    "b += a\n",
    "print(b)  # 20\n",
    "\n",
    "b -= a\n",
    "print(b)  # 10\n",
    "\n",
    "b *= a\n",
    "print(b)  # 100\n",
    "\n",
    "b <<= a\n",
    "print(b)  # 102400\n"
   ]
  },
  {
   "cell_type": "markdown",
   "metadata": {},
   "source": [
    "## **5. 식별 연산자 (Identity Operators)**\n",
    "\n",
    "Python에서 `is` 및 `is not`은 **두 개의 값이 같은 메모리 주소를 가리키는지 확인**하는 데 사용됩니다.\n",
    "\n",
    "- `is` → **두 변수가 동일한 객체를 가리키면 `True` 반환**\n",
    "- `is not` → **두 변수가 서로 다른 객체를 가리키면 `True` 반환**"
   ]
  },
  {
   "cell_type": "code",
   "execution_count": null,
   "metadata": {},
   "outputs": [],
   "source": [
    "a = 10\n",
    "b = 20\n",
    "c = a\n",
    "\n",
    "print(a is not b)  # True\n",
    "print(a is c)      # True\n"
   ]
  },
  {
   "cell_type": "markdown",
   "metadata": {},
   "source": [
    "## **6. 멤버십 연산자 (Membership Operators)**\n",
    "\n",
    "`in`과 `not in` 연산자는 **특정 값이 리스트, 튜플, 문자열 등의 시퀀스에 존재하는지 확인**하는 데 사용됩니다."
   ]
  },
  {
   "cell_type": "code",
   "execution_count": 19,
   "metadata": {},
   "outputs": [
    {
     "name": "stdout",
     "output_type": "stream",
     "text": [
      "x는 리스트에 존재하지 않습니다.\n",
      "y는 리스트에 존재합니다.\n"
     ]
    }
   ],
   "source": [
    "x = 24\n",
    "y = 20\n",
    "lst = [10, 20, 30, 40, 50]\n",
    "\n",
    "if x not in lst:\n",
    "    print(\"x는 리스트에 존재하지 않습니다.\")\n",
    "else:\n",
    "    print(\"x는 리스트에 존재합니다.\")\n",
    "\n",
    "if y in lst:\n",
    "    print(\"y는 리스트에 존재합니다.\")\n",
    "else:\n",
    "    print(\"y는 리스트에 존재하지 않습니다.\")\n"
   ]
  },
  {
   "cell_type": "markdown",
   "metadata": {},
   "source": [
    "## **6. 멤버십 연산자 (Membership Operators)**\n",
    "\n",
    "`in`과 `not in` 연산자는 **특정 값이 리스트, 튜플, 문자열 등의 시퀀스에 존재하는지 확인**하는 데 사용됩니다."
   ]
  },
  {
   "cell_type": "code",
   "execution_count": null,
   "metadata": {},
   "outputs": [],
   "source": [
    "a, b = 10, 20\n",
    "min_value = a if a < b else b\n",
    "print(min_value)\n"
   ]
  },
  {
   "cell_type": "markdown",
   "metadata": {},
   "source": [
    "## **7. 삼항 연산자 (Ternary Operator)**\n",
    "\n",
    "삼항 연산자는 3개의 피연산자(항)를 가지는 연산자입니다. 이제까지 위에서 나왔던 것들은 이항 연산자입니다.\n",
    "\n",
    "삼항 연산자는   `if-else` 조건문을 단일 라인으로 표현할 수 있습니다."
   ]
  },
  {
   "cell_type": "code",
   "execution_count": 20,
   "metadata": {},
   "outputs": [
    {
     "name": "stdout",
     "output_type": "stream",
     "text": [
      "10\n"
     ]
    }
   ],
   "source": [
    "a, b = 10, 20\n",
    "min_value = a if a < b else b\n",
    "print(min_value)\n"
   ]
  },
  {
   "cell_type": "code",
   "execution_count": null,
   "metadata": {},
   "outputs": [],
   "source": []
  }
 ],
 "metadata": {
  "kernelspec": {
   "display_name": "3.11.11",
   "language": "python",
   "name": "python3"
  },
  "language_info": {
   "codemirror_mode": {
    "name": "ipython",
    "version": 3
   },
   "file_extension": ".py",
   "mimetype": "text/x-python",
   "name": "python",
   "nbconvert_exporter": "python",
   "pygments_lexer": "ipython3",
   "version": "3.11.11"
  }
 },
 "nbformat": 4,
 "nbformat_minor": 2
}
